{
 "cells": [
  {
   "cell_type": "code",
   "execution_count": 1,
   "metadata": {},
   "outputs": [],
   "source": [
    "import pandas as pd\n",
    "import numpy as np\n",
    "import string\n",
    "import re\n",
    "import nltk\n",
    "import sklearn"
   ]
  },
  {
   "cell_type": "code",
   "execution_count": 2,
   "metadata": {},
   "outputs": [
    {
     "data": {
      "text/html": [
       "<div>\n",
       "<style scoped>\n",
       "    .dataframe tbody tr th:only-of-type {\n",
       "        vertical-align: middle;\n",
       "    }\n",
       "\n",
       "    .dataframe tbody tr th {\n",
       "        vertical-align: top;\n",
       "    }\n",
       "\n",
       "    .dataframe thead th {\n",
       "        text-align: right;\n",
       "    }\n",
       "</style>\n",
       "<table border=\"1\" class=\"dataframe\">\n",
       "  <thead>\n",
       "    <tr style=\"text-align: right;\">\n",
       "      <th></th>\n",
       "      <th>Unnamed: 0</th>\n",
       "      <th>Customer Name</th>\n",
       "      <th>Title</th>\n",
       "      <th>Rating</th>\n",
       "      <th>Review</th>\n",
       "    </tr>\n",
       "  </thead>\n",
       "  <tbody>\n",
       "    <tr>\n",
       "      <th>6879</th>\n",
       "      <td>295</td>\n",
       "      <td>Ruth p</td>\n",
       "      <td>NaN</td>\n",
       "      <td>3.0 out of 5 stars</td>\n",
       "      <td>Had hard time trying to connect .had to retu...</td>\n",
       "    </tr>\n",
       "    <tr>\n",
       "      <th>6880</th>\n",
       "      <td>296</td>\n",
       "      <td>Dennis meadows</td>\n",
       "      <td>NaN</td>\n",
       "      <td>3.0 out of 5 stars</td>\n",
       "      <td>Fied problem</td>\n",
       "    </tr>\n",
       "    <tr>\n",
       "      <th>6881</th>\n",
       "      <td>297</td>\n",
       "      <td>Cyril A. Furtado</td>\n",
       "      <td>NaN</td>\n",
       "      <td>3.0 out of 5 stars</td>\n",
       "      <td>OK was a bigger size than expected</td>\n",
       "    </tr>\n",
       "    <tr>\n",
       "      <th>6882</th>\n",
       "      <td>298</td>\n",
       "      <td>Victor Moreno P</td>\n",
       "      <td>NaN</td>\n",
       "      <td>3.0 out of 5 stars</td>\n",
       "      <td>Works</td>\n",
       "    </tr>\n",
       "    <tr>\n",
       "      <th>6883</th>\n",
       "      <td>299</td>\n",
       "      <td>Jonathan Stanley</td>\n",
       "      <td>NaN</td>\n",
       "      <td>3.0 out of 5 stars</td>\n",
       "      <td>2 defective units of 5 now</td>\n",
       "    </tr>\n",
       "  </tbody>\n",
       "</table>\n",
       "</div>"
      ],
      "text/plain": [
       "      Unnamed: 0     Customer Name Title              Rating  \\\n",
       "6879         295            Ruth p   NaN  3.0 out of 5 stars   \n",
       "6880         296    Dennis meadows   NaN  3.0 out of 5 stars   \n",
       "6881         297  Cyril A. Furtado   NaN  3.0 out of 5 stars   \n",
       "6882         298   Victor Moreno P   NaN  3.0 out of 5 stars   \n",
       "6883         299  Jonathan Stanley   NaN  3.0 out of 5 stars   \n",
       "\n",
       "                                                 Review  \n",
       "6879    Had hard time trying to connect .had to retu...  \n",
       "6880                                       Fied problem  \n",
       "6881                 OK was a bigger size than expected  \n",
       "6882                                              Works  \n",
       "6883                         2 defective units of 5 now  "
      ]
     },
     "execution_count": 2,
     "metadata": {},
     "output_type": "execute_result"
    }
   ],
   "source": [
    "df = pd.read_csv(r'C:\\Users\\ANURAG DHAWAN\\Desktop\\PROJECT\\Datasets\\amazon_reviews.csv')\n",
    "df.tail()"
   ]
  },
  {
   "cell_type": "code",
   "execution_count": 3,
   "metadata": {},
   "outputs": [
    {
     "name": "stderr",
     "output_type": "stream",
     "text": [
      "[nltk_data] Downloading package stopwords to C:\\Users\\ANURAG\n",
      "[nltk_data]     DHAWAN\\AppData\\Roaming\\nltk_data...\n",
      "[nltk_data]   Package stopwords is already up-to-date!\n"
     ]
    },
    {
     "data": {
      "text/html": [
       "<div>\n",
       "<style scoped>\n",
       "    .dataframe tbody tr th:only-of-type {\n",
       "        vertical-align: middle;\n",
       "    }\n",
       "\n",
       "    .dataframe tbody tr th {\n",
       "        vertical-align: top;\n",
       "    }\n",
       "\n",
       "    .dataframe thead th {\n",
       "        text-align: right;\n",
       "    }\n",
       "</style>\n",
       "<table border=\"1\" class=\"dataframe\">\n",
       "  <thead>\n",
       "    <tr style=\"text-align: right;\">\n",
       "      <th></th>\n",
       "      <th>Rating</th>\n",
       "      <th>Review</th>\n",
       "    </tr>\n",
       "  </thead>\n",
       "  <tbody>\n",
       "    <tr>\n",
       "      <th>0</th>\n",
       "      <td>5.0 out of 5 stars</td>\n",
       "      <td>Brilliant..I have uploaded some pics of selfie as well as Portrait shot of near by shot.What i...</td>\n",
       "    </tr>\n",
       "    <tr>\n",
       "      <th>1</th>\n",
       "      <td>4.0 out of 5 stars</td>\n",
       "      <td>I used several phone except like this type of phone but this phone is very silky smoothy.90hz ...</td>\n",
       "    </tr>\n",
       "    <tr>\n",
       "      <th>2</th>\n",
       "      <td>2.0 out of 5 stars</td>\n",
       "      <td>Average phone from one plus but surprisingly very bad battery life though good battery on pape...</td>\n",
       "    </tr>\n",
       "    <tr>\n",
       "      <th>3</th>\n",
       "      <td>1.0 out of 5 stars</td>\n",
       "      <td>Display has green tint issue..display looks like a very cheap quality phone. Want to return th...</td>\n",
       "    </tr>\n",
       "    <tr>\n",
       "      <th>4</th>\n",
       "      <td>3.0 out of 5 stars</td>\n",
       "      <td>OnePlus Nord is a very competitive smartphone in this segment.Pros.Device is pretty impressive...</td>\n",
       "    </tr>\n",
       "  </tbody>\n",
       "</table>\n",
       "</div>"
      ],
      "text/plain": [
       "               Rating  \\\n",
       "0  5.0 out of 5 stars   \n",
       "1  4.0 out of 5 stars   \n",
       "2  2.0 out of 5 stars   \n",
       "3  1.0 out of 5 stars   \n",
       "4  3.0 out of 5 stars   \n",
       "\n",
       "                                                                                                Review  \n",
       "0    Brilliant..I have uploaded some pics of selfie as well as Portrait shot of near by shot.What i...  \n",
       "1    I used several phone except like this type of phone but this phone is very silky smoothy.90hz ...  \n",
       "2    Average phone from one plus but surprisingly very bad battery life though good battery on pape...  \n",
       "3    Display has green tint issue..display looks like a very cheap quality phone. Want to return th...  \n",
       "4    OnePlus Nord is a very competitive smartphone in this segment.Pros.Device is pretty impressive...  "
      ]
     },
     "execution_count": 3,
     "metadata": {},
     "output_type": "execute_result"
    }
   ],
   "source": [
    "df = df.drop(['Unnamed: 0','Customer Name','Title'],axis=1)\n",
    "pd.set_option('display.max_colwidth',100)\n",
    "\n",
    "nltk.download('stopwords')\n",
    "df.head()"
   ]
  },
  {
   "cell_type": "code",
   "execution_count": 4,
   "metadata": {},
   "outputs": [],
   "source": [
    "def data_clean(text):\n",
    "    text=str(text)\n",
    "    translator= str.maketrans(string.punctuation, ' '*len(string.punctuation))\n",
    "    text = text.translate(translator)\n",
    "    emoji_pattern = re.compile(\"[\"\n",
    "                           u\"\\U0001F600-\\U0001F64F\"  \n",
    "                           u\"\\U0001F300-\\U0001F5FF\"  \n",
    "                           u\"\\U0001F680-\\U0001F6FF\"  \n",
    "                           u\"\\U0001F1E0-\\U0001F1FF\"  \n",
    "                           u\"\\U00002702-\\U000027B0\"\n",
    "                           u\"\\U000024C2-\\U0001F251\"\n",
    "                           \"]+\", flags=re.UNICODE)\n",
    "    text = emoji_pattern.sub(r'', text)\n",
    "    text = text.strip()\n",
    "    tokens = re.split(\"\\W+\",text)\n",
    "    stopwords = nltk.corpus.stopwords.words('english')\n",
    "    text = [word.lower() for word in tokens if word not in stopwords]\n",
    "    #text = [i for i in text if not i.isdigit()]\n",
    "    return text"
   ]
  },
  {
   "cell_type": "code",
   "execution_count": 5,
   "metadata": {},
   "outputs": [
    {
     "data": {
      "text/html": [
       "<div>\n",
       "<style scoped>\n",
       "    .dataframe tbody tr th:only-of-type {\n",
       "        vertical-align: middle;\n",
       "    }\n",
       "\n",
       "    .dataframe tbody tr th {\n",
       "        vertical-align: top;\n",
       "    }\n",
       "\n",
       "    .dataframe thead th {\n",
       "        text-align: right;\n",
       "    }\n",
       "</style>\n",
       "<table border=\"1\" class=\"dataframe\">\n",
       "  <thead>\n",
       "    <tr style=\"text-align: right;\">\n",
       "      <th></th>\n",
       "      <th>Rating</th>\n",
       "      <th>Review</th>\n",
       "      <th>clean_review</th>\n",
       "    </tr>\n",
       "  </thead>\n",
       "  <tbody>\n",
       "    <tr>\n",
       "      <th>0</th>\n",
       "      <td>5.0 out of 5 stars</td>\n",
       "      <td>Brilliant..I have uploaded some pics of selfie as well as Portrait shot of near by shot.What i...</td>\n",
       "      <td>[brilliant, i, uploaded, pics, selfie, well, portrait, shot, near, shot, what, loved, phone, goo...</td>\n",
       "    </tr>\n",
       "    <tr>\n",
       "      <th>1</th>\n",
       "      <td>4.0 out of 5 stars</td>\n",
       "      <td>I used several phone except like this type of phone but this phone is very silky smoothy.90hz ...</td>\n",
       "      <td>[i, used, several, phone, except, like, type, phone, phone, silky, smoothy, 90hz, refresh, rate,...</td>\n",
       "    </tr>\n",
       "    <tr>\n",
       "      <th>2</th>\n",
       "      <td>2.0 out of 5 stars</td>\n",
       "      <td>Average phone from one plus but surprisingly very bad battery life though good battery on pape...</td>\n",
       "      <td>[average, phone, one, plus, surprisingly, bad, battery, life, though, good, battery, paper, disa...</td>\n",
       "    </tr>\n",
       "    <tr>\n",
       "      <th>3</th>\n",
       "      <td>1.0 out of 5 stars</td>\n",
       "      <td>Display has green tint issue..display looks like a very cheap quality phone. Want to return th...</td>\n",
       "      <td>[display, green, tint, issue, display, looks, like, cheap, quality, phone, want, return, phone, ...</td>\n",
       "    </tr>\n",
       "    <tr>\n",
       "      <th>4</th>\n",
       "      <td>3.0 out of 5 stars</td>\n",
       "      <td>OnePlus Nord is a very competitive smartphone in this segment.Pros.Device is pretty impressive...</td>\n",
       "      <td>[oneplus, nord, competitive, smartphone, segment, pros, device, pretty, impressive, looks, premi...</td>\n",
       "    </tr>\n",
       "  </tbody>\n",
       "</table>\n",
       "</div>"
      ],
      "text/plain": [
       "               Rating  \\\n",
       "0  5.0 out of 5 stars   \n",
       "1  4.0 out of 5 stars   \n",
       "2  2.0 out of 5 stars   \n",
       "3  1.0 out of 5 stars   \n",
       "4  3.0 out of 5 stars   \n",
       "\n",
       "                                                                                                Review  \\\n",
       "0    Brilliant..I have uploaded some pics of selfie as well as Portrait shot of near by shot.What i...   \n",
       "1    I used several phone except like this type of phone but this phone is very silky smoothy.90hz ...   \n",
       "2    Average phone from one plus but surprisingly very bad battery life though good battery on pape...   \n",
       "3    Display has green tint issue..display looks like a very cheap quality phone. Want to return th...   \n",
       "4    OnePlus Nord is a very competitive smartphone in this segment.Pros.Device is pretty impressive...   \n",
       "\n",
       "                                                                                          clean_review  \n",
       "0  [brilliant, i, uploaded, pics, selfie, well, portrait, shot, near, shot, what, loved, phone, goo...  \n",
       "1  [i, used, several, phone, except, like, type, phone, phone, silky, smoothy, 90hz, refresh, rate,...  \n",
       "2  [average, phone, one, plus, surprisingly, bad, battery, life, though, good, battery, paper, disa...  \n",
       "3  [display, green, tint, issue, display, looks, like, cheap, quality, phone, want, return, phone, ...  \n",
       "4  [oneplus, nord, competitive, smartphone, segment, pros, device, pretty, impressive, looks, premi...  "
      ]
     },
     "execution_count": 5,
     "metadata": {},
     "output_type": "execute_result"
    }
   ],
   "source": [
    "df['clean_review']= df['Review'].apply(lambda x: data_clean(x))\n",
    "df.head()"
   ]
  },
  {
   "cell_type": "code",
   "execution_count": 6,
   "metadata": {},
   "outputs": [
    {
     "data": {
      "text/html": [
       "<div>\n",
       "<style scoped>\n",
       "    .dataframe tbody tr th:only-of-type {\n",
       "        vertical-align: middle;\n",
       "    }\n",
       "\n",
       "    .dataframe tbody tr th {\n",
       "        vertical-align: top;\n",
       "    }\n",
       "\n",
       "    .dataframe thead th {\n",
       "        text-align: right;\n",
       "    }\n",
       "</style>\n",
       "<table border=\"1\" class=\"dataframe\">\n",
       "  <thead>\n",
       "    <tr style=\"text-align: right;\">\n",
       "      <th></th>\n",
       "      <th>Rating</th>\n",
       "      <th>Review</th>\n",
       "      <th>clean_review</th>\n",
       "      <th>lemmatized</th>\n",
       "    </tr>\n",
       "  </thead>\n",
       "  <tbody>\n",
       "    <tr>\n",
       "      <th>0</th>\n",
       "      <td>5.0 out of 5 stars</td>\n",
       "      <td>Brilliant..I have uploaded some pics of selfie as well as Portrait shot of near by shot.What i...</td>\n",
       "      <td>[brilliant, i, uploaded, pics, selfie, well, portrait, shot, near, shot, what, loved, phone, goo...</td>\n",
       "      <td>brilliant i uploaded pic selfie well portrait shot near shot what loved phone good sensor it fir...</td>\n",
       "    </tr>\n",
       "    <tr>\n",
       "      <th>1</th>\n",
       "      <td>4.0 out of 5 stars</td>\n",
       "      <td>I used several phone except like this type of phone but this phone is very silky smoothy.90hz ...</td>\n",
       "      <td>[i, used, several, phone, except, like, type, phone, phone, silky, smoothy, 90hz, refresh, rate,...</td>\n",
       "      <td>i used several phone except like type phone phone silky smoothy 90hz refresh rate speed good smo...</td>\n",
       "    </tr>\n",
       "    <tr>\n",
       "      <th>2</th>\n",
       "      <td>2.0 out of 5 stars</td>\n",
       "      <td>Average phone from one plus but surprisingly very bad battery life though good battery on pape...</td>\n",
       "      <td>[average, phone, one, plus, surprisingly, bad, battery, life, though, good, battery, paper, disa...</td>\n",
       "      <td>average phone one plus surprisingly bad battery life though good battery paper disappointed</td>\n",
       "    </tr>\n",
       "    <tr>\n",
       "      <th>3</th>\n",
       "      <td>1.0 out of 5 stars</td>\n",
       "      <td>Display has green tint issue..display looks like a very cheap quality phone. Want to return th...</td>\n",
       "      <td>[display, green, tint, issue, display, looks, like, cheap, quality, phone, want, return, phone, ...</td>\n",
       "      <td>display green tint issue display look like cheap quality phone want return phone amazon offering...</td>\n",
       "    </tr>\n",
       "    <tr>\n",
       "      <th>4</th>\n",
       "      <td>3.0 out of 5 stars</td>\n",
       "      <td>OnePlus Nord is a very competitive smartphone in this segment.Pros.Device is pretty impressive...</td>\n",
       "      <td>[oneplus, nord, competitive, smartphone, segment, pros, device, pretty, impressive, looks, premi...</td>\n",
       "      <td>oneplus nord competitive smartphone segment pro device pretty impressive look premium 1 screen l...</td>\n",
       "    </tr>\n",
       "  </tbody>\n",
       "</table>\n",
       "</div>"
      ],
      "text/plain": [
       "               Rating  \\\n",
       "0  5.0 out of 5 stars   \n",
       "1  4.0 out of 5 stars   \n",
       "2  2.0 out of 5 stars   \n",
       "3  1.0 out of 5 stars   \n",
       "4  3.0 out of 5 stars   \n",
       "\n",
       "                                                                                                Review  \\\n",
       "0    Brilliant..I have uploaded some pics of selfie as well as Portrait shot of near by shot.What i...   \n",
       "1    I used several phone except like this type of phone but this phone is very silky smoothy.90hz ...   \n",
       "2    Average phone from one plus but surprisingly very bad battery life though good battery on pape...   \n",
       "3    Display has green tint issue..display looks like a very cheap quality phone. Want to return th...   \n",
       "4    OnePlus Nord is a very competitive smartphone in this segment.Pros.Device is pretty impressive...   \n",
       "\n",
       "                                                                                          clean_review  \\\n",
       "0  [brilliant, i, uploaded, pics, selfie, well, portrait, shot, near, shot, what, loved, phone, goo...   \n",
       "1  [i, used, several, phone, except, like, type, phone, phone, silky, smoothy, 90hz, refresh, rate,...   \n",
       "2  [average, phone, one, plus, surprisingly, bad, battery, life, though, good, battery, paper, disa...   \n",
       "3  [display, green, tint, issue, display, looks, like, cheap, quality, phone, want, return, phone, ...   \n",
       "4  [oneplus, nord, competitive, smartphone, segment, pros, device, pretty, impressive, looks, premi...   \n",
       "\n",
       "                                                                                            lemmatized  \n",
       "0  brilliant i uploaded pic selfie well portrait shot near shot what loved phone good sensor it fir...  \n",
       "1  i used several phone except like type phone phone silky smoothy 90hz refresh rate speed good smo...  \n",
       "2          average phone one plus surprisingly bad battery life though good battery paper disappointed  \n",
       "3  display green tint issue display look like cheap quality phone want return phone amazon offering...  \n",
       "4  oneplus nord competitive smartphone segment pro device pretty impressive look premium 1 screen l...  "
      ]
     },
     "execution_count": 6,
     "metadata": {},
     "output_type": "execute_result"
    }
   ],
   "source": [
    "wn = nltk.WordNetLemmatizer()\n",
    "def lemmatization(tokens):\n",
    "    text = [wn.lemmatize(word) for word in tokens]\n",
    "    return ' '.join(word for word in text)\n",
    "\n",
    "df['lemmatized'] = df['clean_review'].apply(lambda x: lemmatization(x))\n",
    "df.head()"
   ]
  },
  {
   "cell_type": "code",
   "execution_count": 7,
   "metadata": {},
   "outputs": [],
   "source": [
    "from tensorflow.keras.layers import Embedding,Dropout,SpatialDropout1D\n",
    "from tensorflow.keras.preprocessing.sequence import pad_sequences\n",
    "from tensorflow.keras.models import Sequential\n",
    "from tensorflow.keras.preprocessing.text import one_hot\n",
    "from tensorflow.keras.layers import LSTM\n",
    "from tensorflow.keras.layers import Dense\n",
    "from tensorflow import keras"
   ]
  },
  {
   "cell_type": "code",
   "execution_count": 8,
   "metadata": {},
   "outputs": [
    {
     "data": {
      "text/html": [
       "<div>\n",
       "<style scoped>\n",
       "    .dataframe tbody tr th:only-of-type {\n",
       "        vertical-align: middle;\n",
       "    }\n",
       "\n",
       "    .dataframe tbody tr th {\n",
       "        vertical-align: top;\n",
       "    }\n",
       "\n",
       "    .dataframe thead th {\n",
       "        text-align: right;\n",
       "    }\n",
       "</style>\n",
       "<table border=\"1\" class=\"dataframe\">\n",
       "  <thead>\n",
       "    <tr style=\"text-align: right;\">\n",
       "      <th></th>\n",
       "      <th>Rating</th>\n",
       "      <th>Review</th>\n",
       "      <th>clean_review</th>\n",
       "      <th>lemmatized</th>\n",
       "      <th>feedback</th>\n",
       "    </tr>\n",
       "  </thead>\n",
       "  <tbody>\n",
       "    <tr>\n",
       "      <th>0</th>\n",
       "      <td>5.0 out of 5 stars</td>\n",
       "      <td>Brilliant..I have uploaded some pics of selfie as well as Portrait shot of near by shot.What i...</td>\n",
       "      <td>[brilliant, i, uploaded, pics, selfie, well, portrait, shot, near, shot, what, loved, phone, goo...</td>\n",
       "      <td>brilliant i uploaded pic selfie well portrait shot near shot what loved phone good sensor it fir...</td>\n",
       "      <td>3</td>\n",
       "    </tr>\n",
       "    <tr>\n",
       "      <th>1</th>\n",
       "      <td>4.0 out of 5 stars</td>\n",
       "      <td>I used several phone except like this type of phone but this phone is very silky smoothy.90hz ...</td>\n",
       "      <td>[i, used, several, phone, except, like, type, phone, phone, silky, smoothy, 90hz, refresh, rate,...</td>\n",
       "      <td>i used several phone except like type phone phone silky smoothy 90hz refresh rate speed good smo...</td>\n",
       "      <td>3</td>\n",
       "    </tr>\n",
       "    <tr>\n",
       "      <th>2</th>\n",
       "      <td>2.0 out of 5 stars</td>\n",
       "      <td>Average phone from one plus but surprisingly very bad battery life though good battery on pape...</td>\n",
       "      <td>[average, phone, one, plus, surprisingly, bad, battery, life, though, good, battery, paper, disa...</td>\n",
       "      <td>average phone one plus surprisingly bad battery life though good battery paper disappointed</td>\n",
       "      <td>1</td>\n",
       "    </tr>\n",
       "    <tr>\n",
       "      <th>3</th>\n",
       "      <td>1.0 out of 5 stars</td>\n",
       "      <td>Display has green tint issue..display looks like a very cheap quality phone. Want to return th...</td>\n",
       "      <td>[display, green, tint, issue, display, looks, like, cheap, quality, phone, want, return, phone, ...</td>\n",
       "      <td>display green tint issue display look like cheap quality phone want return phone amazon offering...</td>\n",
       "      <td>1</td>\n",
       "    </tr>\n",
       "    <tr>\n",
       "      <th>4</th>\n",
       "      <td>3.0 out of 5 stars</td>\n",
       "      <td>OnePlus Nord is a very competitive smartphone in this segment.Pros.Device is pretty impressive...</td>\n",
       "      <td>[oneplus, nord, competitive, smartphone, segment, pros, device, pretty, impressive, looks, premi...</td>\n",
       "      <td>oneplus nord competitive smartphone segment pro device pretty impressive look premium 1 screen l...</td>\n",
       "      <td>2</td>\n",
       "    </tr>\n",
       "  </tbody>\n",
       "</table>\n",
       "</div>"
      ],
      "text/plain": [
       "               Rating  \\\n",
       "0  5.0 out of 5 stars   \n",
       "1  4.0 out of 5 stars   \n",
       "2  2.0 out of 5 stars   \n",
       "3  1.0 out of 5 stars   \n",
       "4  3.0 out of 5 stars   \n",
       "\n",
       "                                                                                                Review  \\\n",
       "0    Brilliant..I have uploaded some pics of selfie as well as Portrait shot of near by shot.What i...   \n",
       "1    I used several phone except like this type of phone but this phone is very silky smoothy.90hz ...   \n",
       "2    Average phone from one plus but surprisingly very bad battery life though good battery on pape...   \n",
       "3    Display has green tint issue..display looks like a very cheap quality phone. Want to return th...   \n",
       "4    OnePlus Nord is a very competitive smartphone in this segment.Pros.Device is pretty impressive...   \n",
       "\n",
       "                                                                                          clean_review  \\\n",
       "0  [brilliant, i, uploaded, pics, selfie, well, portrait, shot, near, shot, what, loved, phone, goo...   \n",
       "1  [i, used, several, phone, except, like, type, phone, phone, silky, smoothy, 90hz, refresh, rate,...   \n",
       "2  [average, phone, one, plus, surprisingly, bad, battery, life, though, good, battery, paper, disa...   \n",
       "3  [display, green, tint, issue, display, looks, like, cheap, quality, phone, want, return, phone, ...   \n",
       "4  [oneplus, nord, competitive, smartphone, segment, pros, device, pretty, impressive, looks, premi...   \n",
       "\n",
       "                                                                                            lemmatized  \\\n",
       "0  brilliant i uploaded pic selfie well portrait shot near shot what loved phone good sensor it fir...   \n",
       "1  i used several phone except like type phone phone silky smoothy 90hz refresh rate speed good smo...   \n",
       "2          average phone one plus surprisingly bad battery life though good battery paper disappointed   \n",
       "3  display green tint issue display look like cheap quality phone want return phone amazon offering...   \n",
       "4  oneplus nord competitive smartphone segment pro device pretty impressive look premium 1 screen l...   \n",
       "\n",
       "   feedback  \n",
       "0         3  \n",
       "1         3  \n",
       "2         1  \n",
       "3         1  \n",
       "4         2  "
      ]
     },
     "execution_count": 8,
     "metadata": {},
     "output_type": "execute_result"
    }
   ],
   "source": [
    "def feedback(text):\n",
    "    if(int(text[0])>3):\n",
    "        return 3\n",
    "    if(int(text[0])<3):\n",
    "        return 1\n",
    "    else:\n",
    "        return 2\n",
    "df['feedback'] = df['Rating'].apply(lambda x : feedback(x))    \n",
    "df.head()"
   ]
  },
  {
   "cell_type": "markdown",
   "metadata": {},
   "source": [
    "3-->positive ; 2-->neutral ; 1-->negative"
   ]
  },
  {
   "cell_type": "code",
   "execution_count": 9,
   "metadata": {},
   "outputs": [
    {
     "name": "stdout",
     "output_type": "stream",
     "text": [
      "(6884,)\n",
      "(6884,)\n"
     ]
    }
   ],
   "source": [
    "x = df.lemmatized\n",
    "y=df.feedback\n",
    "print(x.shape)\n",
    "print(y.shape)"
   ]
  },
  {
   "cell_type": "code",
   "execution_count": 10,
   "metadata": {},
   "outputs": [
    {
     "name": "stdout",
     "output_type": "stream",
     "text": [
      "(6884, 3)\n"
     ]
    }
   ],
   "source": [
    "Y = pd.get_dummies(df['feedback']).values\n",
    "print( Y.shape)"
   ]
  },
  {
   "cell_type": "code",
   "execution_count": 11,
   "metadata": {},
   "outputs": [
    {
     "data": {
      "text/plain": [
       "list"
      ]
     },
     "execution_count": 11,
     "metadata": {},
     "output_type": "execute_result"
    }
   ],
   "source": [
    "corpus=[]\n",
    "for sentence in x:\n",
    "    corpus.append(sentence)\n",
    "\n",
    "type(corpus)"
   ]
  },
  {
   "cell_type": "code",
   "execution_count": 12,
   "metadata": {},
   "outputs": [],
   "source": [
    "from sklearn.model_selection import train_test_split\n",
    "X_train, X_test, y_train, y_test = train_test_split(corpus, Y, test_size=0.1, random_state=42 , stratify = Y)"
   ]
  },
  {
   "cell_type": "code",
   "execution_count": 13,
   "metadata": {},
   "outputs": [],
   "source": [
    "from keras.preprocessing.text import Tokenizer\n",
    "\n",
    "tokenizer = Tokenizer(num_words=50000, filters='!\"#$%&()*+,-./:;<=>?@[\\]^_`{|}~', lower=True ,oov_token='<OOV>')\n",
    "tokenizer.fit_on_texts(X_train)\n",
    "word_index = tokenizer.word_index\n",
    "\n",
    "training_sequences = tokenizer.texts_to_sequences(X_train)\n",
    "training_padded = pad_sequences(training_sequences, maxlen=250)\n",
    "\n",
    "testing_sequences = tokenizer.texts_to_sequences(X_test)\n",
    "testing_padded = pad_sequences(testing_sequences, maxlen=250)\n"
   ]
  },
  {
   "cell_type": "markdown",
   "metadata": {},
   "source": [
    "voc_size = 50000\n",
    "onehot_repr=[one_hot(words,voc_size)for words in corpus] \n",
    "onehot_repr"
   ]
  },
  {
   "cell_type": "markdown",
   "metadata": {},
   "source": [
    "voc_size = 50000\n",
    "sent_length=200\n",
    "embedded_docs=pad_sequences(onehot_repr,padding='pre',maxlen=sent_length)\n",
    "print(embedded_docs)"
   ]
  },
  {
   "cell_type": "code",
   "execution_count": 47,
   "metadata": {},
   "outputs": [
    {
     "name": "stdout",
     "output_type": "stream",
     "text": [
      "Model: \"sequential_5\"\n",
      "_________________________________________________________________\n",
      "Layer (type)                 Output Shape              Param #   \n",
      "=================================================================\n",
      "embedding_5 (Embedding)      (None, 250, 100)          5000000   \n",
      "_________________________________________________________________\n",
      "spatial_dropout1d_5 (Spatial (None, 250, 100)          0         \n",
      "_________________________________________________________________\n",
      "lstm_5 (LSTM)                (None, 100)               80400     \n",
      "_________________________________________________________________\n",
      "dense_10 (Dense)             (None, 32)                3232      \n",
      "_________________________________________________________________\n",
      "dense_11 (Dense)             (None, 3)                 99        \n",
      "=================================================================\n",
      "Total params: 5,083,731\n",
      "Trainable params: 5,083,731\n",
      "Non-trainable params: 0\n",
      "_________________________________________________________________\n",
      "None\n"
     ]
    }
   ],
   "source": [
    "voc_size = 50000\n",
    "sent_length=250\n",
    "embedding_vector_features=100\n",
    "model=Sequential()\n",
    "model.add(Embedding(voc_size,embedding_vector_features,input_length=sent_length))\n",
    "model.add(SpatialDropout1D(0.2))\n",
    "model.add(LSTM(100,dropout=0.7, recurrent_dropout=0.7))\n",
    "model.add(Dense(32,activation='sigmoid'))\n",
    "model.add(Dense(3,activation='softmax'))\n",
    "opt = keras.optimizers.Adam(learning_rate=0.0002)\n",
    "model.compile(loss='categorical_crossentropy',optimizer=opt,metrics=['accuracy'])\n",
    "print(model.summary())"
   ]
  },
  {
   "cell_type": "markdown",
   "metadata": {},
   "source": [
    "X_final=np.array(embedded_docs)\n",
    "y_final=np.array(Y)"
   ]
  },
  {
   "cell_type": "markdown",
   "metadata": {},
   "source": [
    "print(X_final.shape)\n",
    "print(Y)"
   ]
  },
  {
   "cell_type": "code",
   "execution_count": 48,
   "metadata": {},
   "outputs": [
    {
     "name": "stdout",
     "output_type": "stream",
     "text": [
      "Epoch 1/20\n",
      "49/49 [==============================] - 82s 2s/step - loss: 1.4053 - accuracy: 0.2588 - val_loss: 1.0849 - val_accuracy: 0.4586\n",
      "Epoch 2/20\n",
      "49/49 [==============================] - 87s 2s/step - loss: 1.0679 - accuracy: 0.4531 - val_loss: 1.0646 - val_accuracy: 0.4586\n",
      "Epoch 3/20\n",
      "49/49 [==============================] - 85s 2s/step - loss: 1.0645 - accuracy: 0.4578 - val_loss: 1.0640 - val_accuracy: 0.4586\n",
      "Epoch 4/20\n",
      "49/49 [==============================] - 84s 2s/step - loss: 1.0626 - accuracy: 0.4578 - val_loss: 1.0620 - val_accuracy: 0.4586\n",
      "Epoch 5/20\n",
      "49/49 [==============================] - 84s 2s/step - loss: 1.0596 - accuracy: 0.4578 - val_loss: 1.0577 - val_accuracy: 0.4586\n",
      "Epoch 6/20\n",
      "49/49 [==============================] - 85s 2s/step - loss: 1.0537 - accuracy: 0.4578 - val_loss: 1.0506 - val_accuracy: 0.4586\n",
      "Epoch 7/20\n",
      "49/49 [==============================] - 87s 2s/step - loss: 1.0298 - accuracy: 0.4694 - val_loss: 0.9983 - val_accuracy: 0.4586\n",
      "Epoch 8/20\n",
      "49/49 [==============================] - 84s 2s/step - loss: 0.9185 - accuracy: 0.6056 - val_loss: 0.8284 - val_accuracy: 0.6430\n",
      "Epoch 9/20\n",
      "49/49 [==============================] - 84s 2s/step - loss: 0.8029 - accuracy: 0.6513 - val_loss: 0.7722 - val_accuracy: 0.6531\n",
      "Epoch 10/20\n",
      "49/49 [==============================] - 84s 2s/step - loss: 0.7452 - accuracy: 0.6801 - val_loss: 0.7429 - val_accuracy: 0.6618\n",
      "Epoch 11/20\n",
      "49/49 [==============================] - 84s 2s/step - loss: 0.7059 - accuracy: 0.6960 - val_loss: 0.7241 - val_accuracy: 0.6851\n",
      "Epoch 12/20\n",
      "49/49 [==============================] - 84s 2s/step - loss: 0.6758 - accuracy: 0.7148 - val_loss: 0.7064 - val_accuracy: 0.6909\n",
      "Epoch 13/20\n",
      "49/49 [==============================] - 87s 2s/step - loss: 0.6460 - accuracy: 0.7374 - val_loss: 0.6956 - val_accuracy: 0.6952\n",
      "Epoch 14/20\n",
      "49/49 [==============================] - 84s 2s/step - loss: 0.6248 - accuracy: 0.7469 - val_loss: 0.6939 - val_accuracy: 0.7068\n",
      "Epoch 15/20\n",
      "49/49 [==============================] - 83s 2s/step - loss: 0.5990 - accuracy: 0.7629 - val_loss: 0.6699 - val_accuracy: 0.7097\n",
      "Epoch 16/20\n",
      "49/49 [==============================] - 84s 2s/step - loss: 0.5762 - accuracy: 0.7727 - val_loss: 0.6747 - val_accuracy: 0.7010\n",
      "Epoch 17/20\n",
      "49/49 [==============================] - 84s 2s/step - loss: 0.5574 - accuracy: 0.7798 - val_loss: 0.6417 - val_accuracy: 0.7112\n",
      "Epoch 18/20\n",
      "49/49 [==============================] - 84s 2s/step - loss: 0.5282 - accuracy: 0.7989 - val_loss: 0.6429 - val_accuracy: 0.7271\n",
      "Epoch 19/20\n",
      "49/49 [==============================] - 83s 2s/step - loss: 0.5038 - accuracy: 0.8124 - val_loss: 0.6311 - val_accuracy: 0.7329\n",
      "Epoch 20/20\n",
      "49/49 [==============================] - 83s 2s/step - loss: 0.4810 - accuracy: 0.8195 - val_loss: 0.6270 - val_accuracy: 0.7504\n"
     ]
    }
   ],
   "source": [
    "model_hist=model.fit(training_padded,y_train,epochs=20, validation_data=(testing_padded, y_test) ,batch_size=128)"
   ]
  },
  {
   "cell_type": "markdown",
   "metadata": {},
   "source": [
    "df['feedback'].value_counts()"
   ]
  },
  {
   "cell_type": "markdown",
   "metadata": {},
   "source": [
    "accr = model.evaluate(X_test,y_test)"
   ]
  },
  {
   "cell_type": "code",
   "execution_count": 49,
   "metadata": {},
   "outputs": [
    {
     "name": "stdout",
     "output_type": "stream",
     "text": [
      "WARNING:tensorflow:Model was constructed with shape (None, 250) for input Tensor(\"embedding_5_input:0\", shape=(None, 250), dtype=float32), but it was called on an input with incompatible shape (None, 200).\n",
      "[[0.29439697 0.596984   0.108619  ]] 2\n"
     ]
    }
   ],
   "source": [
    "new_complaint = ['While Alexa is smart and intelligent , it cannot answer complex questions because it does not have Google Search ! Google mini has the brains of the best search engine on earth ! Google mini any day ! Only reason to buy it would be if you had a prime music account and you had to play music through it !']\n",
    "seq = tokenizer.texts_to_sequences(new_complaint)\n",
    "#onehot_repr=[one_hot(words,voc_size)for words in new_complaint ] \n",
    "padded = pad_sequences(seq, maxlen=200)\n",
    "pred = model.predict(padded)\n",
    "labels = ['1','2','3']\n",
    "print(pred, labels[np.argmax(pred)])"
   ]
  },
  {
   "cell_type": "markdown",
   "metadata": {},
   "source": [
    "Y[:5]"
   ]
  },
  {
   "cell_type": "markdown",
   "metadata": {},
   "source": [
    "y_pred = model.predict(X_test)\n",
    "y_pred = y_pred"
   ]
  },
  {
   "cell_type": "markdown",
   "metadata": {},
   "source": [
    "y_pred[:5]"
   ]
  },
  {
   "cell_type": "markdown",
   "metadata": {},
   "source": [
    "y_test[:5]"
   ]
  },
  {
   "cell_type": "code",
   "execution_count": 18,
   "metadata": {},
   "outputs": [],
   "source": [
    "import matplotlib.pyplot as plt\n"
   ]
  },
  {
   "cell_type": "code",
   "execution_count": 19,
   "metadata": {},
   "outputs": [
    {
     "data": {
      "text/plain": [
       "<matplotlib.axes._subplots.AxesSubplot at 0x1eeea5140a0>"
      ]
     },
     "execution_count": 19,
     "metadata": {},
     "output_type": "execute_result"
    },
    {
     "data": {
      "image/png": "[encoded data removed]",
      "text/plain": [
       "<Figure size 432x288 with 1 Axes>"
      ]
     },
     "metadata": {
      "needs_background": "light"
     },
     "output_type": "display_data"
    }
   ],
   "source": [
    "bar = y.value_counts()\n",
    "bar.plot(kind='bar')"
   ]
  },
  {
   "cell_type": "code",
   "execution_count": 50,
   "metadata": {},
   "outputs": [
    {
     "data": {
      "image/png": "[encoded data removed]",
      "text/plain": [
       "<Figure size 432x288 with 1 Axes>"
      ]
     },
     "metadata": {
      "needs_background": "light"
     },
     "output_type": "display_data"
    },
    {
     "data": {
      "image/png": "[encoded data removed]",
      "text/plain": [
       "<Figure size 432x288 with 1 Axes>"
      ]
     },
     "metadata": {
      "needs_background": "light"
     },
     "output_type": "display_data"
    }
   ],
   "source": [
    "plt.plot(model_hist.history['loss'], label = 'loss')\n",
    "plt.plot(model_hist.history['val_loss'], label = 'val_loss')\n",
    "plt.title('Loss')\n",
    "plt.legend()\n",
    "plt.show()\n",
    "\n",
    "plt.plot(model_hist.history['accuracy'], label = 'acc')\n",
    "plt.plot(model_hist.history['val_accuracy'], label = 'val_acc')\n",
    "plt.title('Accuracy')\n",
    "plt.legend()\n",
    "plt.show()"
   ]
  },
  {
   "cell_type": "code",
   "execution_count": 51,
   "metadata": {},
   "outputs": [
    {
     "data": {
      "text/plain": [
       "array([[121,  35,  24],\n",
       "       [ 43, 115,  35],\n",
       "       [ 13,  22, 281]], dtype=int64)"
      ]
     },
     "execution_count": 51,
     "metadata": {},
     "output_type": "execute_result"
    }
   ],
   "source": [
    "from sklearn.metrics import confusion_matrix\n",
    "y_pred = model.predict(testing_padded)\n",
    "y_pred_single = np.argmax(y_pred, axis=1)\n",
    "y = np.argmax(y_test,axis=1)\n",
    "cm = confusion_matrix(y,y_pred_single)\n",
    "cm"
   ]
  },
  {
   "cell_type": "code",
   "execution_count": 52,
   "metadata": {},
   "outputs": [
    {
     "data": {
      "text/plain": [
       "<matplotlib.image.AxesImage at 0x176121a08e0>"
      ]
     },
     "execution_count": 52,
     "metadata": {},
     "output_type": "execute_result"
    },
    {
     "data": {
      "image/png": "[encoded data removed]",
      "text/plain": [
       "<Figure size 288x288 with 1 Axes>"
      ]
     },
     "metadata": {
      "needs_background": "light"
     },
     "output_type": "display_data"
    }
   ],
   "source": [
    "plt.matshow(cm,cmap=plt.cm.gray)"
   ]
  },
  {
   "cell_type": "code",
   "execution_count": 53,
   "metadata": {},
   "outputs": [
    {
     "name": "stdout",
     "output_type": "stream",
     "text": [
      "22/22 [==============================] - 1s 49ms/step - loss: 0.6270 - accuracy: 0.7504\n"
     ]
    },
    {
     "data": {
      "text/plain": [
       "[0.6269980669021606, 0.7503628730773926]"
      ]
     },
     "execution_count": 53,
     "metadata": {},
     "output_type": "execute_result"
    }
   ],
   "source": [
    "model.evaluate(testing_padded,y_test)"
   ]
  },
  {
   "cell_type": "code",
   "execution_count": null,
   "metadata": {},
   "outputs": [],
   "source": []
  },
  {
   "cell_type": "code",
   "execution_count": null,
   "metadata": {},
   "outputs": [],
   "source": []
  },
  {
   "cell_type": "code",
   "execution_count": null,
   "metadata": {},
   "outputs": [],
   "source": []
  }
 ],
 "metadata": {
  "kernelspec": {
   "display_name": "Python 3",
   "language": "python",
   "name": "python3"
  },
  "language_info": {
   "codemirror_mode": {
    "name": "ipython",
    "version": 3
   },
   "file_extension": ".py",
   "mimetype": "text/x-python",
   "name": "python",
   "nbconvert_exporter": "python",
   "pygments_lexer": "ipython3",
   "version": "3.8.2"
  }
 },
 "nbformat": 4,
 "nbformat_minor": 4
}
