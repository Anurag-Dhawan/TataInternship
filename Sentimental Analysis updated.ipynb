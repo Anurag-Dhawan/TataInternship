{
 "cells": [
  {
   "cell_type": "code",
   "execution_count": 27,
   "metadata": {},
   "outputs": [],
   "source": [
    "import pandas as pd\n",
    "import numpy as np\n",
    "import string\n",
    "import re\n",
    "import nltk\n",
    "import sklearn"
   ]
  },
  {
   "cell_type": "code",
   "execution_count": 29,
   "metadata": {},
   "outputs": [
    {
     "data": {
      "text/html": [
       "<div>\n",
       "<style scoped>\n",
       "    .dataframe tbody tr th:only-of-type {\n",
       "        vertical-align: middle;\n",
       "    }\n",
       "\n",
       "    .dataframe tbody tr th {\n",
       "        vertical-align: top;\n",
       "    }\n",
       "\n",
       "    .dataframe thead th {\n",
       "        text-align: right;\n",
       "    }\n",
       "</style>\n",
       "<table border=\"1\" class=\"dataframe\">\n",
       "  <thead>\n",
       "    <tr style=\"text-align: right;\">\n",
       "      <th></th>\n",
       "      <th>Unnamed: 0</th>\n",
       "      <th>Customer Name</th>\n",
       "      <th>Title</th>\n",
       "      <th>Rating</th>\n",
       "      <th>Review</th>\n",
       "    </tr>\n",
       "  </thead>\n",
       "  <tbody>\n",
       "    <tr>\n",
       "      <th>5065</th>\n",
       "      <td>185</td>\n",
       "      <td>Gurdeep Singh</td>\n",
       "      <td>Perfect</td>\n",
       "      <td>3.0 out of 5 stars</td>\n",
       "      <td>Perfect fitting</td>\n",
       "    </tr>\n",
       "    <tr>\n",
       "      <th>5066</th>\n",
       "      <td>186</td>\n",
       "      <td>M k Mahindru</td>\n",
       "      <td>Nothing great</td>\n",
       "      <td>3.0 out of 5 stars</td>\n",
       "      <td>Just ok for the price. Nothing great</td>\n",
       "    </tr>\n",
       "    <tr>\n",
       "      <th>5067</th>\n",
       "      <td>187</td>\n",
       "      <td>mohit mishra</td>\n",
       "      <td>Average clothing material!!</td>\n",
       "      <td>3.0 out of 5 stars</td>\n",
       "      <td>Clothing material is average</td>\n",
       "    </tr>\n",
       "    <tr>\n",
       "      <th>5068</th>\n",
       "      <td>188</td>\n",
       "      <td>Swagatpatil</td>\n",
       "      <td>Ok ok</td>\n",
       "      <td>3.0 out of 5 stars</td>\n",
       "      <td>Ok ok</td>\n",
       "    </tr>\n",
       "    <tr>\n",
       "      <th>5069</th>\n",
       "      <td>189</td>\n",
       "      <td>Siddhartha Basak</td>\n",
       "      <td>Ok</td>\n",
       "      <td>3.0 out of 5 stars</td>\n",
       "      <td>It's ok not good</td>\n",
       "    </tr>\n",
       "  </tbody>\n",
       "</table>\n",
       "</div>"
      ],
      "text/plain": [
       "      Unnamed: 0     Customer Name                        Title  \\\n",
       "5065         185     Gurdeep Singh                      Perfect   \n",
       "5066         186      M k Mahindru                Nothing great   \n",
       "5067         187      mohit mishra  Average clothing material!!   \n",
       "5068         188       Swagatpatil                        Ok ok   \n",
       "5069         189  Siddhartha Basak                           Ok   \n",
       "\n",
       "                  Rating                                  Review  \n",
       "5065  3.0 out of 5 stars                         Perfect fitting  \n",
       "5066  3.0 out of 5 stars    Just ok for the price. Nothing great  \n",
       "5067  3.0 out of 5 stars            Clothing material is average  \n",
       "5068  3.0 out of 5 stars                                   Ok ok  \n",
       "5069  3.0 out of 5 stars                        It's ok not good  "
      ]
     },
     "execution_count": 29,
     "metadata": {},
     "output_type": "execute_result"
    }
   ],
   "source": [
    "df = pd.read_csv(r'C:\\Users\\ANURAG DHAWAN\\Desktop\\PROJECT\\Datasets\\amazon_reviews.csv')\n",
    "df.tail()"
   ]
  },
  {
   "cell_type": "code",
   "execution_count": 30,
   "metadata": {},
   "outputs": [
    {
     "name": "stderr",
     "output_type": "stream",
     "text": [
      "[nltk_data] Downloading package stopwords to C:\\Users\\ANURAG\n",
      "[nltk_data]     DHAWAN\\AppData\\Roaming\\nltk_data...\n",
      "[nltk_data]   Package stopwords is already up-to-date!\n"
     ]
    },
    {
     "data": {
      "text/html": [
       "<div>\n",
       "<style scoped>\n",
       "    .dataframe tbody tr th:only-of-type {\n",
       "        vertical-align: middle;\n",
       "    }\n",
       "\n",
       "    .dataframe tbody tr th {\n",
       "        vertical-align: top;\n",
       "    }\n",
       "\n",
       "    .dataframe thead th {\n",
       "        text-align: right;\n",
       "    }\n",
       "</style>\n",
       "<table border=\"1\" class=\"dataframe\">\n",
       "  <thead>\n",
       "    <tr style=\"text-align: right;\">\n",
       "      <th></th>\n",
       "      <th>Rating</th>\n",
       "      <th>Review</th>\n",
       "    </tr>\n",
       "  </thead>\n",
       "  <tbody>\n",
       "    <tr>\n",
       "      <th>0</th>\n",
       "      <td>5.0 out of 5 stars</td>\n",
       "      <td>Brilliant..I have uploaded some pics of selfie as well as Portrait shot of near by shot.What i...</td>\n",
       "    </tr>\n",
       "    <tr>\n",
       "      <th>1</th>\n",
       "      <td>4.0 out of 5 stars</td>\n",
       "      <td>I used several phone except like this type of phone but this phone is very silky smoothy.90hz ...</td>\n",
       "    </tr>\n",
       "    <tr>\n",
       "      <th>2</th>\n",
       "      <td>2.0 out of 5 stars</td>\n",
       "      <td>Average phone from one plus but surprisingly very bad battery life though good battery on pape...</td>\n",
       "    </tr>\n",
       "    <tr>\n",
       "      <th>3</th>\n",
       "      <td>1.0 out of 5 stars</td>\n",
       "      <td>Display has green tint issue..display looks like a very cheap quality phone. Want to return th...</td>\n",
       "    </tr>\n",
       "    <tr>\n",
       "      <th>4</th>\n",
       "      <td>3.0 out of 5 stars</td>\n",
       "      <td>OnePlus Nord is a very competitive smartphone in this segment.Pros.Device is pretty impressive...</td>\n",
       "    </tr>\n",
       "  </tbody>\n",
       "</table>\n",
       "</div>"
      ],
      "text/plain": [
       "               Rating  \\\n",
       "0  5.0 out of 5 stars   \n",
       "1  4.0 out of 5 stars   \n",
       "2  2.0 out of 5 stars   \n",
       "3  1.0 out of 5 stars   \n",
       "4  3.0 out of 5 stars   \n",
       "\n",
       "                                                                                                Review  \n",
       "0    Brilliant..I have uploaded some pics of selfie as well as Portrait shot of near by shot.What i...  \n",
       "1    I used several phone except like this type of phone but this phone is very silky smoothy.90hz ...  \n",
       "2    Average phone from one plus but surprisingly very bad battery life though good battery on pape...  \n",
       "3    Display has green tint issue..display looks like a very cheap quality phone. Want to return th...  \n",
       "4    OnePlus Nord is a very competitive smartphone in this segment.Pros.Device is pretty impressive...  "
      ]
     },
     "execution_count": 30,
     "metadata": {},
     "output_type": "execute_result"
    }
   ],
   "source": [
    "df = df.drop(['Unnamed: 0','Customer Name','Title'],axis=1)\n",
    "pd.set_option('display.max_colwidth',100)\n",
    "\n",
    "nltk.download('stopwords')\n",
    "df.head()"
   ]
  },
  {
   "cell_type": "code",
   "execution_count": 31,
   "metadata": {},
   "outputs": [],
   "source": [
    "def data_clean(text):\n",
    "    translator= str.maketrans(string.punctuation, ' '*len(string.punctuation))\n",
    "    text = text.translate(translator)\n",
    "    emoji_pattern = re.compile(\"[\"\n",
    "                           u\"\\U0001F600-\\U0001F64F\"  \n",
    "                           u\"\\U0001F300-\\U0001F5FF\"  \n",
    "                           u\"\\U0001F680-\\U0001F6FF\"  \n",
    "                           u\"\\U0001F1E0-\\U0001F1FF\"  \n",
    "                           u\"\\U00002702-\\U000027B0\"\n",
    "                           u\"\\U000024C2-\\U0001F251\"\n",
    "                           \"]+\", flags=re.UNICODE)\n",
    "    text = emoji_pattern.sub(r'', text)\n",
    "    text = text.strip()\n",
    "    tokens = re.split(\"\\W+\",text)\n",
    "    stopwords = nltk.corpus.stopwords.words('english')\n",
    "    text = [word for word in tokens if word not in stopwords]\n",
    "    return text"
   ]
  },
  {
   "cell_type": "code",
   "execution_count": 32,
   "metadata": {},
   "outputs": [
    {
     "data": {
      "text/html": [
       "<div>\n",
       "<style scoped>\n",
       "    .dataframe tbody tr th:only-of-type {\n",
       "        vertical-align: middle;\n",
       "    }\n",
       "\n",
       "    .dataframe tbody tr th {\n",
       "        vertical-align: top;\n",
       "    }\n",
       "\n",
       "    .dataframe thead th {\n",
       "        text-align: right;\n",
       "    }\n",
       "</style>\n",
       "<table border=\"1\" class=\"dataframe\">\n",
       "  <thead>\n",
       "    <tr style=\"text-align: right;\">\n",
       "      <th></th>\n",
       "      <th>Rating</th>\n",
       "      <th>Review</th>\n",
       "      <th>clean_review</th>\n",
       "    </tr>\n",
       "  </thead>\n",
       "  <tbody>\n",
       "    <tr>\n",
       "      <th>0</th>\n",
       "      <td>5.0 out of 5 stars</td>\n",
       "      <td>Brilliant..I have uploaded some pics of selfie as well as Portrait shot of near by shot.What i...</td>\n",
       "      <td>[brilliant, uploaded, pics, selfie, well, portrait, shot, near, shot, loved, phone, good, sensor...</td>\n",
       "    </tr>\n",
       "    <tr>\n",
       "      <th>1</th>\n",
       "      <td>4.0 out of 5 stars</td>\n",
       "      <td>I used several phone except like this type of phone but this phone is very silky smoothy.90hz ...</td>\n",
       "      <td>[used, several, phone, except, like, type, phone, phone, silky, smoothy, 90hz, refresh, rate, sp...</td>\n",
       "    </tr>\n",
       "    <tr>\n",
       "      <th>2</th>\n",
       "      <td>2.0 out of 5 stars</td>\n",
       "      <td>Average phone from one plus but surprisingly very bad battery life though good battery on pape...</td>\n",
       "      <td>[average, phone, one, plus, surprisingly, bad, battery, life, though, good, battery, paper, disa...</td>\n",
       "    </tr>\n",
       "    <tr>\n",
       "      <th>3</th>\n",
       "      <td>1.0 out of 5 stars</td>\n",
       "      <td>Display has green tint issue..display looks like a very cheap quality phone. Want to return th...</td>\n",
       "      <td>[display, green, tint, issue, display, looks, like, cheap, quality, phone, want, return, phone, ...</td>\n",
       "    </tr>\n",
       "    <tr>\n",
       "      <th>4</th>\n",
       "      <td>3.0 out of 5 stars</td>\n",
       "      <td>OnePlus Nord is a very competitive smartphone in this segment.Pros.Device is pretty impressive...</td>\n",
       "      <td>[oneplus, nord, competitive, smartphone, segment, pros, device, pretty, impressive, looks, premi...</td>\n",
       "    </tr>\n",
       "  </tbody>\n",
       "</table>\n",
       "</div>"
      ],
      "text/plain": [
       "               Rating  \\\n",
       "0  5.0 out of 5 stars   \n",
       "1  4.0 out of 5 stars   \n",
       "2  2.0 out of 5 stars   \n",
       "3  1.0 out of 5 stars   \n",
       "4  3.0 out of 5 stars   \n",
       "\n",
       "                                                                                                Review  \\\n",
       "0    Brilliant..I have uploaded some pics of selfie as well as Portrait shot of near by shot.What i...   \n",
       "1    I used several phone except like this type of phone but this phone is very silky smoothy.90hz ...   \n",
       "2    Average phone from one plus but surprisingly very bad battery life though good battery on pape...   \n",
       "3    Display has green tint issue..display looks like a very cheap quality phone. Want to return th...   \n",
       "4    OnePlus Nord is a very competitive smartphone in this segment.Pros.Device is pretty impressive...   \n",
       "\n",
       "                                                                                          clean_review  \n",
       "0  [brilliant, uploaded, pics, selfie, well, portrait, shot, near, shot, loved, phone, good, sensor...  \n",
       "1  [used, several, phone, except, like, type, phone, phone, silky, smoothy, 90hz, refresh, rate, sp...  \n",
       "2  [average, phone, one, plus, surprisingly, bad, battery, life, though, good, battery, paper, disa...  \n",
       "3  [display, green, tint, issue, display, looks, like, cheap, quality, phone, want, return, phone, ...  \n",
       "4  [oneplus, nord, competitive, smartphone, segment, pros, device, pretty, impressive, looks, premi...  "
      ]
     },
     "execution_count": 32,
     "metadata": {},
     "output_type": "execute_result"
    }
   ],
   "source": [
    "df['clean_review']= df['Review'].apply(lambda x: data_clean(x.lower()))\n",
    "df.head()"
   ]
  },
  {
   "cell_type": "code",
   "execution_count": 33,
   "metadata": {},
   "outputs": [
    {
     "data": {
      "text/html": [
       "<div>\n",
       "<style scoped>\n",
       "    .dataframe tbody tr th:only-of-type {\n",
       "        vertical-align: middle;\n",
       "    }\n",
       "\n",
       "    .dataframe tbody tr th {\n",
       "        vertical-align: top;\n",
       "    }\n",
       "\n",
       "    .dataframe thead th {\n",
       "        text-align: right;\n",
       "    }\n",
       "</style>\n",
       "<table border=\"1\" class=\"dataframe\">\n",
       "  <thead>\n",
       "    <tr style=\"text-align: right;\">\n",
       "      <th></th>\n",
       "      <th>Rating</th>\n",
       "      <th>Review</th>\n",
       "      <th>clean_review</th>\n",
       "      <th>lemmatized</th>\n",
       "    </tr>\n",
       "  </thead>\n",
       "  <tbody>\n",
       "    <tr>\n",
       "      <th>0</th>\n",
       "      <td>5.0 out of 5 stars</td>\n",
       "      <td>Brilliant..I have uploaded some pics of selfie as well as Portrait shot of near by shot.What i...</td>\n",
       "      <td>[brilliant, uploaded, pics, selfie, well, portrait, shot, near, shot, loved, phone, good, sensor...</td>\n",
       "      <td>brilliant uploaded pic selfie well portrait shot near shot loved phone good sensor first phone j...</td>\n",
       "    </tr>\n",
       "    <tr>\n",
       "      <th>1</th>\n",
       "      <td>4.0 out of 5 stars</td>\n",
       "      <td>I used several phone except like this type of phone but this phone is very silky smoothy.90hz ...</td>\n",
       "      <td>[used, several, phone, except, like, type, phone, phone, silky, smoothy, 90hz, refresh, rate, sp...</td>\n",
       "      <td>used several phone except like type phone phone silky smoothy 90hz refresh rate speed good smoot...</td>\n",
       "    </tr>\n",
       "    <tr>\n",
       "      <th>2</th>\n",
       "      <td>2.0 out of 5 stars</td>\n",
       "      <td>Average phone from one plus but surprisingly very bad battery life though good battery on pape...</td>\n",
       "      <td>[average, phone, one, plus, surprisingly, bad, battery, life, though, good, battery, paper, disa...</td>\n",
       "      <td>average phone one plus surprisingly bad battery life though good battery paper disappointed</td>\n",
       "    </tr>\n",
       "    <tr>\n",
       "      <th>3</th>\n",
       "      <td>1.0 out of 5 stars</td>\n",
       "      <td>Display has green tint issue..display looks like a very cheap quality phone. Want to return th...</td>\n",
       "      <td>[display, green, tint, issue, display, looks, like, cheap, quality, phone, want, return, phone, ...</td>\n",
       "      <td>display green tint issue display look like cheap quality phone want return phone amazon offering...</td>\n",
       "    </tr>\n",
       "    <tr>\n",
       "      <th>4</th>\n",
       "      <td>3.0 out of 5 stars</td>\n",
       "      <td>OnePlus Nord is a very competitive smartphone in this segment.Pros.Device is pretty impressive...</td>\n",
       "      <td>[oneplus, nord, competitive, smartphone, segment, pros, device, pretty, impressive, looks, premi...</td>\n",
       "      <td>oneplus nord competitive smartphone segment pro device pretty impressive look premium 1 screen l...</td>\n",
       "    </tr>\n",
       "  </tbody>\n",
       "</table>\n",
       "</div>"
      ],
      "text/plain": [
       "               Rating  \\\n",
       "0  5.0 out of 5 stars   \n",
       "1  4.0 out of 5 stars   \n",
       "2  2.0 out of 5 stars   \n",
       "3  1.0 out of 5 stars   \n",
       "4  3.0 out of 5 stars   \n",
       "\n",
       "                                                                                                Review  \\\n",
       "0    Brilliant..I have uploaded some pics of selfie as well as Portrait shot of near by shot.What i...   \n",
       "1    I used several phone except like this type of phone but this phone is very silky smoothy.90hz ...   \n",
       "2    Average phone from one plus but surprisingly very bad battery life though good battery on pape...   \n",
       "3    Display has green tint issue..display looks like a very cheap quality phone. Want to return th...   \n",
       "4    OnePlus Nord is a very competitive smartphone in this segment.Pros.Device is pretty impressive...   \n",
       "\n",
       "                                                                                          clean_review  \\\n",
       "0  [brilliant, uploaded, pics, selfie, well, portrait, shot, near, shot, loved, phone, good, sensor...   \n",
       "1  [used, several, phone, except, like, type, phone, phone, silky, smoothy, 90hz, refresh, rate, sp...   \n",
       "2  [average, phone, one, plus, surprisingly, bad, battery, life, though, good, battery, paper, disa...   \n",
       "3  [display, green, tint, issue, display, looks, like, cheap, quality, phone, want, return, phone, ...   \n",
       "4  [oneplus, nord, competitive, smartphone, segment, pros, device, pretty, impressive, looks, premi...   \n",
       "\n",
       "                                                                                            lemmatized  \n",
       "0  brilliant uploaded pic selfie well portrait shot near shot loved phone good sensor first phone j...  \n",
       "1  used several phone except like type phone phone silky smoothy 90hz refresh rate speed good smoot...  \n",
       "2          average phone one plus surprisingly bad battery life though good battery paper disappointed  \n",
       "3  display green tint issue display look like cheap quality phone want return phone amazon offering...  \n",
       "4  oneplus nord competitive smartphone segment pro device pretty impressive look premium 1 screen l...  "
      ]
     },
     "execution_count": 33,
     "metadata": {},
     "output_type": "execute_result"
    }
   ],
   "source": [
    "wn = nltk.WordNetLemmatizer()\n",
    "def lemmatization(tokens):\n",
    "    text = [wn.lemmatize(word) for word in tokens]\n",
    "    return ' '.join(word for word in text)\n",
    "\n",
    "df['lemmatized'] = df['clean_review'].apply(lambda x: lemmatization(x))\n",
    "df.head()"
   ]
  },
  {
   "cell_type": "code",
   "execution_count": 34,
   "metadata": {},
   "outputs": [],
   "source": [
    "from tensorflow.keras.layers import Embedding\n",
    "from tensorflow.keras.preprocessing.sequence import pad_sequences\n",
    "from tensorflow.keras.models import Sequential\n",
    "from tensorflow.keras.preprocessing.text import one_hot\n",
    "from tensorflow.keras.layers import LSTM\n",
    "from tensorflow.keras.layers import Dense"
   ]
  },
  {
   "cell_type": "code",
   "execution_count": 35,
   "metadata": {},
   "outputs": [
    {
     "data": {
      "text/html": [
       "<div>\n",
       "<style scoped>\n",
       "    .dataframe tbody tr th:only-of-type {\n",
       "        vertical-align: middle;\n",
       "    }\n",
       "\n",
       "    .dataframe tbody tr th {\n",
       "        vertical-align: top;\n",
       "    }\n",
       "\n",
       "    .dataframe thead th {\n",
       "        text-align: right;\n",
       "    }\n",
       "</style>\n",
       "<table border=\"1\" class=\"dataframe\">\n",
       "  <thead>\n",
       "    <tr style=\"text-align: right;\">\n",
       "      <th></th>\n",
       "      <th>Rating</th>\n",
       "      <th>Review</th>\n",
       "      <th>clean_review</th>\n",
       "      <th>lemmatized</th>\n",
       "      <th>feedback</th>\n",
       "    </tr>\n",
       "  </thead>\n",
       "  <tbody>\n",
       "    <tr>\n",
       "      <th>0</th>\n",
       "      <td>5.0 out of 5 stars</td>\n",
       "      <td>Brilliant..I have uploaded some pics of selfie as well as Portrait shot of near by shot.What i...</td>\n",
       "      <td>[brilliant, uploaded, pics, selfie, well, portrait, shot, near, shot, loved, phone, good, sensor...</td>\n",
       "      <td>brilliant uploaded pic selfie well portrait shot near shot loved phone good sensor first phone j...</td>\n",
       "      <td>3</td>\n",
       "    </tr>\n",
       "    <tr>\n",
       "      <th>1</th>\n",
       "      <td>4.0 out of 5 stars</td>\n",
       "      <td>I used several phone except like this type of phone but this phone is very silky smoothy.90hz ...</td>\n",
       "      <td>[used, several, phone, except, like, type, phone, phone, silky, smoothy, 90hz, refresh, rate, sp...</td>\n",
       "      <td>used several phone except like type phone phone silky smoothy 90hz refresh rate speed good smoot...</td>\n",
       "      <td>3</td>\n",
       "    </tr>\n",
       "    <tr>\n",
       "      <th>2</th>\n",
       "      <td>2.0 out of 5 stars</td>\n",
       "      <td>Average phone from one plus but surprisingly very bad battery life though good battery on pape...</td>\n",
       "      <td>[average, phone, one, plus, surprisingly, bad, battery, life, though, good, battery, paper, disa...</td>\n",
       "      <td>average phone one plus surprisingly bad battery life though good battery paper disappointed</td>\n",
       "      <td>1</td>\n",
       "    </tr>\n",
       "    <tr>\n",
       "      <th>3</th>\n",
       "      <td>1.0 out of 5 stars</td>\n",
       "      <td>Display has green tint issue..display looks like a very cheap quality phone. Want to return th...</td>\n",
       "      <td>[display, green, tint, issue, display, looks, like, cheap, quality, phone, want, return, phone, ...</td>\n",
       "      <td>display green tint issue display look like cheap quality phone want return phone amazon offering...</td>\n",
       "      <td>1</td>\n",
       "    </tr>\n",
       "    <tr>\n",
       "      <th>4</th>\n",
       "      <td>3.0 out of 5 stars</td>\n",
       "      <td>OnePlus Nord is a very competitive smartphone in this segment.Pros.Device is pretty impressive...</td>\n",
       "      <td>[oneplus, nord, competitive, smartphone, segment, pros, device, pretty, impressive, looks, premi...</td>\n",
       "      <td>oneplus nord competitive smartphone segment pro device pretty impressive look premium 1 screen l...</td>\n",
       "      <td>2</td>\n",
       "    </tr>\n",
       "  </tbody>\n",
       "</table>\n",
       "</div>"
      ],
      "text/plain": [
       "               Rating  \\\n",
       "0  5.0 out of 5 stars   \n",
       "1  4.0 out of 5 stars   \n",
       "2  2.0 out of 5 stars   \n",
       "3  1.0 out of 5 stars   \n",
       "4  3.0 out of 5 stars   \n",
       "\n",
       "                                                                                                Review  \\\n",
       "0    Brilliant..I have uploaded some pics of selfie as well as Portrait shot of near by shot.What i...   \n",
       "1    I used several phone except like this type of phone but this phone is very silky smoothy.90hz ...   \n",
       "2    Average phone from one plus but surprisingly very bad battery life though good battery on pape...   \n",
       "3    Display has green tint issue..display looks like a very cheap quality phone. Want to return th...   \n",
       "4    OnePlus Nord is a very competitive smartphone in this segment.Pros.Device is pretty impressive...   \n",
       "\n",
       "                                                                                          clean_review  \\\n",
       "0  [brilliant, uploaded, pics, selfie, well, portrait, shot, near, shot, loved, phone, good, sensor...   \n",
       "1  [used, several, phone, except, like, type, phone, phone, silky, smoothy, 90hz, refresh, rate, sp...   \n",
       "2  [average, phone, one, plus, surprisingly, bad, battery, life, though, good, battery, paper, disa...   \n",
       "3  [display, green, tint, issue, display, looks, like, cheap, quality, phone, want, return, phone, ...   \n",
       "4  [oneplus, nord, competitive, smartphone, segment, pros, device, pretty, impressive, looks, premi...   \n",
       "\n",
       "                                                                                            lemmatized  \\\n",
       "0  brilliant uploaded pic selfie well portrait shot near shot loved phone good sensor first phone j...   \n",
       "1  used several phone except like type phone phone silky smoothy 90hz refresh rate speed good smoot...   \n",
       "2          average phone one plus surprisingly bad battery life though good battery paper disappointed   \n",
       "3  display green tint issue display look like cheap quality phone want return phone amazon offering...   \n",
       "4  oneplus nord competitive smartphone segment pro device pretty impressive look premium 1 screen l...   \n",
       "\n",
       "   feedback  \n",
       "0         3  \n",
       "1         3  \n",
       "2         1  \n",
       "3         1  \n",
       "4         2  "
      ]
     },
     "execution_count": 35,
     "metadata": {},
     "output_type": "execute_result"
    }
   ],
   "source": [
    "def feedback(text):\n",
    "    if(int(text[0])>3):\n",
    "        return 3\n",
    "    if(int(text[0])<3):\n",
    "        return 1\n",
    "    else:\n",
    "        return 2\n",
    "df['feedback'] = df['Rating'].apply(lambda x : feedback(x))    \n",
    "df.head()"
   ]
  },
  {
   "cell_type": "markdown",
   "metadata": {},
   "source": [
    "3-->positive ; 2-->neutral ; 1-->negative"
   ]
  },
  {
   "cell_type": "code",
   "execution_count": 36,
   "metadata": {},
   "outputs": [
    {
     "name": "stdout",
     "output_type": "stream",
     "text": [
      "(5070,)\n",
      "(5070,)\n"
     ]
    }
   ],
   "source": [
    "x = df.lemmatized\n",
    "y=df.feedback\n",
    "print(x.shape)\n",
    "print(y.shape)"
   ]
  },
  {
   "cell_type": "code",
   "execution_count": 37,
   "metadata": {},
   "outputs": [
    {
     "name": "stdout",
     "output_type": "stream",
     "text": [
      "(5070, 3)\n"
     ]
    }
   ],
   "source": [
    "Y = pd.get_dummies(df['feedback']).values\n",
    "print( Y.shape)"
   ]
  },
  {
   "cell_type": "code",
   "execution_count": 38,
   "metadata": {},
   "outputs": [
    {
     "data": {
      "text/plain": [
       "list"
      ]
     },
     "execution_count": 38,
     "metadata": {},
     "output_type": "execute_result"
    }
   ],
   "source": [
    "corpus=[]\n",
    "for sentence in x:\n",
    "    corpus.append(sentence)\n",
    "\n",
    "type(corpus)"
   ]
  },
  {
   "cell_type": "code",
   "execution_count": 39,
   "metadata": {},
   "outputs": [],
   "source": [
    "from sklearn.model_selection import train_test_split\n",
    "X_train, X_test, y_train, y_test = train_test_split(corpus, Y, test_size=0.10, random_state=42 , stratify = Y)"
   ]
  },
  {
   "cell_type": "code",
   "execution_count": 40,
   "metadata": {},
   "outputs": [],
   "source": [
    "from keras.preprocessing.text import Tokenizer\n",
    "\n",
    "tokenizer = Tokenizer(num_words=15000, filters='!\"#$%&()*+,-./:;<=>?@[\\]^_`{|}~', lower=True ,oov_token='<OOV>')\n",
    "tokenizer.fit_on_texts(X_train)\n",
    "word_index = tokenizer.word_index\n",
    "\n",
    "training_sequences = tokenizer.texts_to_sequences(X_train)\n",
    "training_padded = pad_sequences(training_sequences, maxlen=200)\n",
    "\n",
    "testing_sequences = tokenizer.texts_to_sequences(X_test)\n",
    "testing_padded = pad_sequences(testing_sequences, maxlen=200)\n"
   ]
  },
  {
   "cell_type": "markdown",
   "metadata": {},
   "source": [
    "voc_size = 50000\n",
    "onehot_repr=[one_hot(words,voc_size)for words in corpus] \n",
    "onehot_repr"
   ]
  },
  {
   "cell_type": "markdown",
   "metadata": {},
   "source": [
    "voc_size = 50000\n",
    "sent_length=200\n",
    "embedded_docs=pad_sequences(onehot_repr,padding='pre',maxlen=sent_length)\n",
    "print(embedded_docs)"
   ]
  },
  {
   "cell_type": "code",
   "execution_count": 41,
   "metadata": {},
   "outputs": [
    {
     "name": "stdout",
     "output_type": "stream",
     "text": [
      "Model: \"sequential_1\"\n",
      "_________________________________________________________________\n",
      "Layer (type)                 Output Shape              Param #   \n",
      "=================================================================\n",
      "embedding_1 (Embedding)      (None, 200, 100)          5000000   \n",
      "_________________________________________________________________\n",
      "lstm_1 (LSTM)                (None, 100)               80400     \n",
      "_________________________________________________________________\n",
      "dense_1 (Dense)              (None, 3)                 303       \n",
      "=================================================================\n",
      "Total params: 5,080,703\n",
      "Trainable params: 5,080,703\n",
      "Non-trainable params: 0\n",
      "_________________________________________________________________\n",
      "None\n"
     ]
    }
   ],
   "source": [
    "voc_size = 50000\n",
    "sent_length=200\n",
    "embedding_vector_features=100\n",
    "model=Sequential()\n",
    "model.add(Embedding(voc_size,embedding_vector_features,input_length=sent_length))\n",
    "model.add(LSTM(100))\n",
    "model.add(Dense(3,activation='softmax'))\n",
    "model.compile(loss='categorical_crossentropy',optimizer='adam',metrics=['accuracy'])\n",
    "print(model.summary())"
   ]
  },
  {
   "cell_type": "markdown",
   "metadata": {},
   "source": [
    "X_final=np.array(embedded_docs)\n",
    "y_final=np.array(Y)"
   ]
  },
  {
   "cell_type": "markdown",
   "metadata": {},
   "source": [
    "print(X_final.shape)\n",
    "print(Y)"
   ]
  },
  {
   "cell_type": "code",
   "execution_count": 42,
   "metadata": {},
   "outputs": [
    {
     "name": "stdout",
     "output_type": "stream",
     "text": [
      "Epoch 1/5\n",
      "72/72 [==============================] - 19s 265ms/step - loss: 0.8536 - accuracy: 0.6410 - val_loss: 0.6912 - val_accuracy: 0.7318\n",
      "Epoch 2/5\n",
      "72/72 [==============================] - 19s 269ms/step - loss: 0.5903 - accuracy: 0.7712 - val_loss: 0.6024 - val_accuracy: 0.7574\n",
      "Epoch 3/5\n",
      "72/72 [==============================] - 20s 282ms/step - loss: 0.4403 - accuracy: 0.8234 - val_loss: 0.6496 - val_accuracy: 0.7495\n",
      "Epoch 4/5\n",
      "72/72 [==============================] - 21s 286ms/step - loss: 0.3329 - accuracy: 0.8762 - val_loss: 0.7269 - val_accuracy: 0.7436\n",
      "Epoch 5/5\n",
      "72/72 [==============================] - 22s 299ms/step - loss: 0.2607 - accuracy: 0.9112 - val_loss: 0.8530 - val_accuracy: 0.7278\n"
     ]
    },
    {
     "data": {
      "text/plain": [
       "<tensorflow.python.keras.callbacks.History at 0x2b9244f8ee0>"
      ]
     },
     "execution_count": 42,
     "metadata": {},
     "output_type": "execute_result"
    }
   ],
   "source": [
    "model.fit(training_padded,y_train,epochs=5, validation_data=(testing_padded, y_test) ,batch_size=64)"
   ]
  },
  {
   "cell_type": "markdown",
   "metadata": {},
   "source": [
    "df['feedback'].value_counts()"
   ]
  },
  {
   "cell_type": "markdown",
   "metadata": {},
   "source": [
    "accr = model.evaluate(X_test,y_test)"
   ]
  },
  {
   "cell_type": "code",
   "execution_count": 57,
   "metadata": {},
   "outputs": [
    {
     "name": "stdout",
     "output_type": "stream",
     "text": [
      "[[0.1541604  0.82776004 0.0180795 ]] 2\n"
     ]
    }
   ],
   "source": [
    "new_complaint = ['While Alexa is smart and intelligent , it cannot answer complex questions because it does not have Google Search ! Google mini has the brains of the best search engine on earth ! Google mini any day ! Only reason to buy it would be if you had a prime music account and you had to play music through it !']\n",
    "seq = tokenizer.texts_to_sequences(new_complaint)\n",
    "#onehot_repr=[one_hot(words,voc_size)for words in new_complaint ] \n",
    "padded = pad_sequences(seq, maxlen=200)\n",
    "pred = model.predict(padded)\n",
    "labels = ['1','2','3']\n",
    "print(pred, labels[np.argmax(pred)])"
   ]
  },
  {
   "cell_type": "code",
   "execution_count": 36,
   "metadata": {},
   "outputs": [
    {
     "data": {
      "text/plain": [
       "array([[0, 0, 1],\n",
       "       [0, 0, 1],\n",
       "       [1, 0, 0],\n",
       "       [1, 0, 0],\n",
       "       [0, 1, 0]], dtype=uint8)"
      ]
     },
     "execution_count": 36,
     "metadata": {},
     "output_type": "execute_result"
    }
   ],
   "source": [
    "Y[:5]"
   ]
  },
  {
   "cell_type": "code",
   "execution_count": 50,
   "metadata": {},
   "outputs": [],
   "source": [
    "y_pred = model.predict(X_test)\n",
    "y_pred = y_pred"
   ]
  },
  {
   "cell_type": "code",
   "execution_count": 52,
   "metadata": {},
   "outputs": [
    {
     "data": {
      "text/plain": [
       "array([[3.8063002e-04, 3.3043923e-03, 9.9631494e-01],\n",
       "       [1.4203001e-03, 8.2844673e-03, 9.9029529e-01],\n",
       "       [4.4779194e-05, 4.7365340e-04, 9.9948162e-01],\n",
       "       [9.9503148e-01, 4.5174556e-03, 4.5111313e-04],\n",
       "       [3.2934359e-01, 6.2655056e-01, 4.4105794e-02]], dtype=float32)"
      ]
     },
     "execution_count": 52,
     "metadata": {},
     "output_type": "execute_result"
    }
   ],
   "source": [
    "y_pred[:5]"
   ]
  },
  {
   "cell_type": "code",
   "execution_count": 53,
   "metadata": {},
   "outputs": [
    {
     "data": {
      "text/plain": [
       "array([[0, 0, 1],\n",
       "       [0, 0, 1],\n",
       "       [0, 0, 1],\n",
       "       [1, 0, 0],\n",
       "       [1, 0, 0]], dtype=uint8)"
      ]
     },
     "execution_count": 53,
     "metadata": {},
     "output_type": "execute_result"
    }
   ],
   "source": [
    "y_test[:5]"
   ]
  },
  {
   "cell_type": "code",
   "execution_count": 48,
   "metadata": {},
   "outputs": [],
   "source": [
    "import matplotlib as plt"
   ]
  },
  {
   "cell_type": "code",
   "execution_count": 49,
   "metadata": {},
   "outputs": [
    {
     "data": {
      "text/plain": [
       "<matplotlib.axes._subplots.AxesSubplot at 0x2b929375580>"
      ]
     },
     "execution_count": 49,
     "metadata": {},
     "output_type": "execute_result"
    },
    {
     "data": {
      "image/png": "[encoded data removed]",
      "text/plain": [
       "<Figure size 432x288 with 1 Axes>"
      ]
     },
     "metadata": {
      "needs_background": "light"
     },
     "output_type": "display_data"
    }
   ],
   "source": [
    "bar = y.value_counts()\n",
    "bar.plot(kind='bar')"
   ]
  },
  {
   "cell_type": "code",
   "execution_count": null,
   "metadata": {},
   "outputs": [],
   "source": []
  }
 ],
 "metadata": {
  "kernelspec": {
   "display_name": "Python 3",
   "language": "python",
   "name": "python3"
  },
  "language_info": {
   "codemirror_mode": {
    "name": "ipython",
    "version": 3
   },
   "file_extension": ".py",
   "mimetype": "text/x-python",
   "name": "python",
   "nbconvert_exporter": "python",
   "pygments_lexer": "ipython3",
   "version": "3.8.2"
  }
 },
 "nbformat": 4,
 "nbformat_minor": 4
}
