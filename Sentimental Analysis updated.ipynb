{
 "cells": [
  {
   "cell_type": "code",
   "execution_count": 1,
   "metadata": {},
   "outputs": [],
   "source": [
    "import pandas as pd\n",
    "import numpy as np\n",
    "import string\n",
    "import re\n",
    "import nltk\n",
    "import sklearn"
   ]
  },
  {
   "cell_type": "code",
   "execution_count": 2,
   "metadata": {},
   "outputs": [
    {
     "data": {
      "text/html": [
       "<div>\n",
       "<style scoped>\n",
       "    .dataframe tbody tr th:only-of-type {\n",
       "        vertical-align: middle;\n",
       "    }\n",
       "\n",
       "    .dataframe tbody tr th {\n",
       "        vertical-align: top;\n",
       "    }\n",
       "\n",
       "    .dataframe thead th {\n",
       "        text-align: right;\n",
       "    }\n",
       "</style>\n",
       "<table border=\"1\" class=\"dataframe\">\n",
       "  <thead>\n",
       "    <tr style=\"text-align: right;\">\n",
       "      <th></th>\n",
       "      <th>Unnamed: 0</th>\n",
       "      <th>Customer Name</th>\n",
       "      <th>Title</th>\n",
       "      <th>Rating</th>\n",
       "      <th>Review</th>\n",
       "    </tr>\n",
       "  </thead>\n",
       "  <tbody>\n",
       "    <tr>\n",
       "      <th>0</th>\n",
       "      <td>0</td>\n",
       "      <td>vasu a.</td>\n",
       "      <td>Beast in OnePlus.</td>\n",
       "      <td>5.0 out of 5 stars</td>\n",
       "      <td>Brilliant..I have uploaded some pics of self...</td>\n",
       "    </tr>\n",
       "    <tr>\n",
       "      <th>1</th>\n",
       "      <td>1</td>\n",
       "      <td>Amazon Customer</td>\n",
       "      <td>OnePlus nord</td>\n",
       "      <td>4.0 out of 5 stars</td>\n",
       "      <td>I used several phone except like this type o...</td>\n",
       "    </tr>\n",
       "    <tr>\n",
       "      <th>2</th>\n",
       "      <td>2</td>\n",
       "      <td>ATMANAND  SHARMA</td>\n",
       "      <td>Khoda pahad nikli chuihya</td>\n",
       "      <td>2.0 out of 5 stars</td>\n",
       "      <td>Average phone from one plus but surprisingly...</td>\n",
       "    </tr>\n",
       "    <tr>\n",
       "      <th>3</th>\n",
       "      <td>3</td>\n",
       "      <td>Amazon Customer</td>\n",
       "      <td>One plus Nord issues</td>\n",
       "      <td>1.0 out of 5 stars</td>\n",
       "      <td>Display has green tint issue..display looks ...</td>\n",
       "    </tr>\n",
       "    <tr>\n",
       "      <th>4</th>\n",
       "      <td>4</td>\n",
       "      <td>ARYA</td>\n",
       "      <td>'More than midrange but less than premium '.  ...</td>\n",
       "      <td>3.0 out of 5 stars</td>\n",
       "      <td>OnePlus Nord is a very competitive smartphon...</td>\n",
       "    </tr>\n",
       "  </tbody>\n",
       "</table>\n",
       "</div>"
      ],
      "text/plain": [
       "   Unnamed: 0     Customer Name  \\\n",
       "0           0           vasu a.   \n",
       "1           1   Amazon Customer   \n",
       "2           2  ATMANAND  SHARMA   \n",
       "3           3   Amazon Customer   \n",
       "4           4              ARYA   \n",
       "\n",
       "                                               Title              Rating  \\\n",
       "0                                  Beast in OnePlus.  5.0 out of 5 stars   \n",
       "1                                       OnePlus nord  4.0 out of 5 stars   \n",
       "2                          Khoda pahad nikli chuihya  2.0 out of 5 stars   \n",
       "3                               One plus Nord issues  1.0 out of 5 stars   \n",
       "4  'More than midrange but less than premium '.  ...  3.0 out of 5 stars   \n",
       "\n",
       "                                              Review  \n",
       "0    Brilliant..I have uploaded some pics of self...  \n",
       "1    I used several phone except like this type o...  \n",
       "2    Average phone from one plus but surprisingly...  \n",
       "3    Display has green tint issue..display looks ...  \n",
       "4    OnePlus Nord is a very competitive smartphon...  "
      ]
     },
     "execution_count": 2,
     "metadata": {},
     "output_type": "execute_result"
    }
   ],
   "source": [
    "df = pd.read_csv(r'C:\\Users\\ANURAG DHAWAN\\Desktop\\PROJECT\\Datasets\\amazon_reviews.csv')\n",
    "df.head()"
   ]
  },
  {
   "cell_type": "code",
   "execution_count": 3,
   "metadata": {},
   "outputs": [
    {
     "name": "stderr",
     "output_type": "stream",
     "text": [
      "[nltk_data] Downloading package stopwords to C:\\Users\\ANURAG\n",
      "[nltk_data]     DHAWAN\\AppData\\Roaming\\nltk_data...\n",
      "[nltk_data]   Package stopwords is already up-to-date!\n"
     ]
    },
    {
     "data": {
      "text/html": [
       "<div>\n",
       "<style scoped>\n",
       "    .dataframe tbody tr th:only-of-type {\n",
       "        vertical-align: middle;\n",
       "    }\n",
       "\n",
       "    .dataframe tbody tr th {\n",
       "        vertical-align: top;\n",
       "    }\n",
       "\n",
       "    .dataframe thead th {\n",
       "        text-align: right;\n",
       "    }\n",
       "</style>\n",
       "<table border=\"1\" class=\"dataframe\">\n",
       "  <thead>\n",
       "    <tr style=\"text-align: right;\">\n",
       "      <th></th>\n",
       "      <th>Rating</th>\n",
       "      <th>Review</th>\n",
       "    </tr>\n",
       "  </thead>\n",
       "  <tbody>\n",
       "    <tr>\n",
       "      <th>0</th>\n",
       "      <td>5.0 out of 5 stars</td>\n",
       "      <td>Brilliant..I have uploaded some pics of selfie as well as Portrait shot of near by shot.What i...</td>\n",
       "    </tr>\n",
       "    <tr>\n",
       "      <th>1</th>\n",
       "      <td>4.0 out of 5 stars</td>\n",
       "      <td>I used several phone except like this type of phone but this phone is very silky smoothy.90hz ...</td>\n",
       "    </tr>\n",
       "    <tr>\n",
       "      <th>2</th>\n",
       "      <td>2.0 out of 5 stars</td>\n",
       "      <td>Average phone from one plus but surprisingly very bad battery life though good battery on pape...</td>\n",
       "    </tr>\n",
       "    <tr>\n",
       "      <th>3</th>\n",
       "      <td>1.0 out of 5 stars</td>\n",
       "      <td>Display has green tint issue..display looks like a very cheap quality phone. Want to return th...</td>\n",
       "    </tr>\n",
       "    <tr>\n",
       "      <th>4</th>\n",
       "      <td>3.0 out of 5 stars</td>\n",
       "      <td>OnePlus Nord is a very competitive smartphone in this segment.Pros.Device is pretty impressive...</td>\n",
       "    </tr>\n",
       "  </tbody>\n",
       "</table>\n",
       "</div>"
      ],
      "text/plain": [
       "               Rating  \\\n",
       "0  5.0 out of 5 stars   \n",
       "1  4.0 out of 5 stars   \n",
       "2  2.0 out of 5 stars   \n",
       "3  1.0 out of 5 stars   \n",
       "4  3.0 out of 5 stars   \n",
       "\n",
       "                                                                                                Review  \n",
       "0    Brilliant..I have uploaded some pics of selfie as well as Portrait shot of near by shot.What i...  \n",
       "1    I used several phone except like this type of phone but this phone is very silky smoothy.90hz ...  \n",
       "2    Average phone from one plus but surprisingly very bad battery life though good battery on pape...  \n",
       "3    Display has green tint issue..display looks like a very cheap quality phone. Want to return th...  \n",
       "4    OnePlus Nord is a very competitive smartphone in this segment.Pros.Device is pretty impressive...  "
      ]
     },
     "execution_count": 3,
     "metadata": {},
     "output_type": "execute_result"
    }
   ],
   "source": [
    "df = df.drop(['Unnamed: 0','Customer Name','Title'],axis=1)\n",
    "pd.set_option('display.max_colwidth',100)\n",
    "\n",
    "nltk.download('stopwords')\n",
    "df.head()"
   ]
  },
  {
   "cell_type": "code",
   "execution_count": 4,
   "metadata": {},
   "outputs": [],
   "source": [
    "def data_clean(text):\n",
    "    translator= str.maketrans(string.punctuation, ' '*len(string.punctuation))\n",
    "    text = text.translate(translator)\n",
    "    emoji_pattern = re.compile(\"[\"\n",
    "                           u\"\\U0001F600-\\U0001F64F\"  \n",
    "                           u\"\\U0001F300-\\U0001F5FF\"  \n",
    "                           u\"\\U0001F680-\\U0001F6FF\"  \n",
    "                           u\"\\U0001F1E0-\\U0001F1FF\"  \n",
    "                           u\"\\U00002702-\\U000027B0\"\n",
    "                           u\"\\U000024C2-\\U0001F251\"\n",
    "                           \"]+\", flags=re.UNICODE)\n",
    "    text = emoji_pattern.sub(r'', text)\n",
    "    text = text.strip()\n",
    "    tokens = re.split(\"\\W+\",text)\n",
    "    stopwords = nltk.corpus.stopwords.words('english')\n",
    "    text = [word for word in tokens if word not in stopwords]\n",
    "    return text"
   ]
  },
  {
   "cell_type": "code",
   "execution_count": 5,
   "metadata": {},
   "outputs": [
    {
     "data": {
      "text/html": [
       "<div>\n",
       "<style scoped>\n",
       "    .dataframe tbody tr th:only-of-type {\n",
       "        vertical-align: middle;\n",
       "    }\n",
       "\n",
       "    .dataframe tbody tr th {\n",
       "        vertical-align: top;\n",
       "    }\n",
       "\n",
       "    .dataframe thead th {\n",
       "        text-align: right;\n",
       "    }\n",
       "</style>\n",
       "<table border=\"1\" class=\"dataframe\">\n",
       "  <thead>\n",
       "    <tr style=\"text-align: right;\">\n",
       "      <th></th>\n",
       "      <th>Rating</th>\n",
       "      <th>Review</th>\n",
       "      <th>clean_review</th>\n",
       "    </tr>\n",
       "  </thead>\n",
       "  <tbody>\n",
       "    <tr>\n",
       "      <th>0</th>\n",
       "      <td>5.0 out of 5 stars</td>\n",
       "      <td>Brilliant..I have uploaded some pics of selfie as well as Portrait shot of near by shot.What i...</td>\n",
       "      <td>[brilliant, uploaded, pics, selfie, well, portrait, shot, near, shot, loved, phone, good, sensor...</td>\n",
       "    </tr>\n",
       "    <tr>\n",
       "      <th>1</th>\n",
       "      <td>4.0 out of 5 stars</td>\n",
       "      <td>I used several phone except like this type of phone but this phone is very silky smoothy.90hz ...</td>\n",
       "      <td>[used, several, phone, except, like, type, phone, phone, silky, smoothy, 90hz, refresh, rate, sp...</td>\n",
       "    </tr>\n",
       "    <tr>\n",
       "      <th>2</th>\n",
       "      <td>2.0 out of 5 stars</td>\n",
       "      <td>Average phone from one plus but surprisingly very bad battery life though good battery on pape...</td>\n",
       "      <td>[average, phone, one, plus, surprisingly, bad, battery, life, though, good, battery, paper, disa...</td>\n",
       "    </tr>\n",
       "    <tr>\n",
       "      <th>3</th>\n",
       "      <td>1.0 out of 5 stars</td>\n",
       "      <td>Display has green tint issue..display looks like a very cheap quality phone. Want to return th...</td>\n",
       "      <td>[display, green, tint, issue, display, looks, like, cheap, quality, phone, want, return, phone, ...</td>\n",
       "    </tr>\n",
       "    <tr>\n",
       "      <th>4</th>\n",
       "      <td>3.0 out of 5 stars</td>\n",
       "      <td>OnePlus Nord is a very competitive smartphone in this segment.Pros.Device is pretty impressive...</td>\n",
       "      <td>[oneplus, nord, competitive, smartphone, segment, pros, device, pretty, impressive, looks, premi...</td>\n",
       "    </tr>\n",
       "  </tbody>\n",
       "</table>\n",
       "</div>"
      ],
      "text/plain": [
       "               Rating  \\\n",
       "0  5.0 out of 5 stars   \n",
       "1  4.0 out of 5 stars   \n",
       "2  2.0 out of 5 stars   \n",
       "3  1.0 out of 5 stars   \n",
       "4  3.0 out of 5 stars   \n",
       "\n",
       "                                                                                                Review  \\\n",
       "0    Brilliant..I have uploaded some pics of selfie as well as Portrait shot of near by shot.What i...   \n",
       "1    I used several phone except like this type of phone but this phone is very silky smoothy.90hz ...   \n",
       "2    Average phone from one plus but surprisingly very bad battery life though good battery on pape...   \n",
       "3    Display has green tint issue..display looks like a very cheap quality phone. Want to return th...   \n",
       "4    OnePlus Nord is a very competitive smartphone in this segment.Pros.Device is pretty impressive...   \n",
       "\n",
       "                                                                                          clean_review  \n",
       "0  [brilliant, uploaded, pics, selfie, well, portrait, shot, near, shot, loved, phone, good, sensor...  \n",
       "1  [used, several, phone, except, like, type, phone, phone, silky, smoothy, 90hz, refresh, rate, sp...  \n",
       "2  [average, phone, one, plus, surprisingly, bad, battery, life, though, good, battery, paper, disa...  \n",
       "3  [display, green, tint, issue, display, looks, like, cheap, quality, phone, want, return, phone, ...  \n",
       "4  [oneplus, nord, competitive, smartphone, segment, pros, device, pretty, impressive, looks, premi...  "
      ]
     },
     "execution_count": 5,
     "metadata": {},
     "output_type": "execute_result"
    }
   ],
   "source": [
    "df['clean_review']= df['Review'].apply(lambda x: data_clean(x.lower()))\n",
    "df.head()"
   ]
  },
  {
   "cell_type": "code",
   "execution_count": 6,
   "metadata": {},
   "outputs": [
    {
     "data": {
      "text/html": [
       "<div>\n",
       "<style scoped>\n",
       "    .dataframe tbody tr th:only-of-type {\n",
       "        vertical-align: middle;\n",
       "    }\n",
       "\n",
       "    .dataframe tbody tr th {\n",
       "        vertical-align: top;\n",
       "    }\n",
       "\n",
       "    .dataframe thead th {\n",
       "        text-align: right;\n",
       "    }\n",
       "</style>\n",
       "<table border=\"1\" class=\"dataframe\">\n",
       "  <thead>\n",
       "    <tr style=\"text-align: right;\">\n",
       "      <th></th>\n",
       "      <th>Rating</th>\n",
       "      <th>Review</th>\n",
       "      <th>clean_review</th>\n",
       "      <th>lemmatized</th>\n",
       "    </tr>\n",
       "  </thead>\n",
       "  <tbody>\n",
       "    <tr>\n",
       "      <th>0</th>\n",
       "      <td>5.0 out of 5 stars</td>\n",
       "      <td>Brilliant..I have uploaded some pics of selfie as well as Portrait shot of near by shot.What i...</td>\n",
       "      <td>[brilliant, uploaded, pics, selfie, well, portrait, shot, near, shot, loved, phone, good, sensor...</td>\n",
       "      <td>brilliant uploaded pic selfie well portrait shot near shot loved phone good sensor first phone j...</td>\n",
       "    </tr>\n",
       "    <tr>\n",
       "      <th>1</th>\n",
       "      <td>4.0 out of 5 stars</td>\n",
       "      <td>I used several phone except like this type of phone but this phone is very silky smoothy.90hz ...</td>\n",
       "      <td>[used, several, phone, except, like, type, phone, phone, silky, smoothy, 90hz, refresh, rate, sp...</td>\n",
       "      <td>used several phone except like type phone phone silky smoothy 90hz refresh rate speed good smoot...</td>\n",
       "    </tr>\n",
       "    <tr>\n",
       "      <th>2</th>\n",
       "      <td>2.0 out of 5 stars</td>\n",
       "      <td>Average phone from one plus but surprisingly very bad battery life though good battery on pape...</td>\n",
       "      <td>[average, phone, one, plus, surprisingly, bad, battery, life, though, good, battery, paper, disa...</td>\n",
       "      <td>average phone one plus surprisingly bad battery life though good battery paper disappointed</td>\n",
       "    </tr>\n",
       "    <tr>\n",
       "      <th>3</th>\n",
       "      <td>1.0 out of 5 stars</td>\n",
       "      <td>Display has green tint issue..display looks like a very cheap quality phone. Want to return th...</td>\n",
       "      <td>[display, green, tint, issue, display, looks, like, cheap, quality, phone, want, return, phone, ...</td>\n",
       "      <td>display green tint issue display look like cheap quality phone want return phone amazon offering...</td>\n",
       "    </tr>\n",
       "    <tr>\n",
       "      <th>4</th>\n",
       "      <td>3.0 out of 5 stars</td>\n",
       "      <td>OnePlus Nord is a very competitive smartphone in this segment.Pros.Device is pretty impressive...</td>\n",
       "      <td>[oneplus, nord, competitive, smartphone, segment, pros, device, pretty, impressive, looks, premi...</td>\n",
       "      <td>oneplus nord competitive smartphone segment pro device pretty impressive look premium 1 screen l...</td>\n",
       "    </tr>\n",
       "  </tbody>\n",
       "</table>\n",
       "</div>"
      ],
      "text/plain": [
       "               Rating  \\\n",
       "0  5.0 out of 5 stars   \n",
       "1  4.0 out of 5 stars   \n",
       "2  2.0 out of 5 stars   \n",
       "3  1.0 out of 5 stars   \n",
       "4  3.0 out of 5 stars   \n",
       "\n",
       "                                                                                                Review  \\\n",
       "0    Brilliant..I have uploaded some pics of selfie as well as Portrait shot of near by shot.What i...   \n",
       "1    I used several phone except like this type of phone but this phone is very silky smoothy.90hz ...   \n",
       "2    Average phone from one plus but surprisingly very bad battery life though good battery on pape...   \n",
       "3    Display has green tint issue..display looks like a very cheap quality phone. Want to return th...   \n",
       "4    OnePlus Nord is a very competitive smartphone in this segment.Pros.Device is pretty impressive...   \n",
       "\n",
       "                                                                                          clean_review  \\\n",
       "0  [brilliant, uploaded, pics, selfie, well, portrait, shot, near, shot, loved, phone, good, sensor...   \n",
       "1  [used, several, phone, except, like, type, phone, phone, silky, smoothy, 90hz, refresh, rate, sp...   \n",
       "2  [average, phone, one, plus, surprisingly, bad, battery, life, though, good, battery, paper, disa...   \n",
       "3  [display, green, tint, issue, display, looks, like, cheap, quality, phone, want, return, phone, ...   \n",
       "4  [oneplus, nord, competitive, smartphone, segment, pros, device, pretty, impressive, looks, premi...   \n",
       "\n",
       "                                                                                            lemmatized  \n",
       "0  brilliant uploaded pic selfie well portrait shot near shot loved phone good sensor first phone j...  \n",
       "1  used several phone except like type phone phone silky smoothy 90hz refresh rate speed good smoot...  \n",
       "2          average phone one plus surprisingly bad battery life though good battery paper disappointed  \n",
       "3  display green tint issue display look like cheap quality phone want return phone amazon offering...  \n",
       "4  oneplus nord competitive smartphone segment pro device pretty impressive look premium 1 screen l...  "
      ]
     },
     "execution_count": 6,
     "metadata": {},
     "output_type": "execute_result"
    }
   ],
   "source": [
    "wn = nltk.WordNetLemmatizer()\n",
    "def lemmatization(tokens):\n",
    "    text = [wn.lemmatize(word) for word in tokens]\n",
    "    return ' '.join(word for word in text)\n",
    "\n",
    "df['lemmatized'] = df['clean_review'].apply(lambda x: lemmatization(x))\n",
    "df.head()"
   ]
  },
  {
   "cell_type": "code",
   "execution_count": 7,
   "metadata": {},
   "outputs": [],
   "source": [
    "from tensorflow.keras.layers import Embedding\n",
    "from tensorflow.keras.preprocessing.sequence import pad_sequences\n",
    "from tensorflow.keras.models import Sequential\n",
    "from tensorflow.keras.preprocessing.text import one_hot\n",
    "from tensorflow.keras.layers import LSTM\n",
    "from tensorflow.keras.layers import Dense"
   ]
  },
  {
   "cell_type": "code",
   "execution_count": 8,
   "metadata": {},
   "outputs": [
    {
     "data": {
      "text/html": [
       "<div>\n",
       "<style scoped>\n",
       "    .dataframe tbody tr th:only-of-type {\n",
       "        vertical-align: middle;\n",
       "    }\n",
       "\n",
       "    .dataframe tbody tr th {\n",
       "        vertical-align: top;\n",
       "    }\n",
       "\n",
       "    .dataframe thead th {\n",
       "        text-align: right;\n",
       "    }\n",
       "</style>\n",
       "<table border=\"1\" class=\"dataframe\">\n",
       "  <thead>\n",
       "    <tr style=\"text-align: right;\">\n",
       "      <th></th>\n",
       "      <th>Rating</th>\n",
       "      <th>Review</th>\n",
       "      <th>clean_review</th>\n",
       "      <th>lemmatized</th>\n",
       "      <th>feedback</th>\n",
       "    </tr>\n",
       "  </thead>\n",
       "  <tbody>\n",
       "    <tr>\n",
       "      <th>0</th>\n",
       "      <td>5.0 out of 5 stars</td>\n",
       "      <td>Brilliant..I have uploaded some pics of selfie as well as Portrait shot of near by shot.What i...</td>\n",
       "      <td>[brilliant, uploaded, pics, selfie, well, portrait, shot, near, shot, loved, phone, good, sensor...</td>\n",
       "      <td>brilliant uploaded pic selfie well portrait shot near shot loved phone good sensor first phone j...</td>\n",
       "      <td>3</td>\n",
       "    </tr>\n",
       "    <tr>\n",
       "      <th>1</th>\n",
       "      <td>4.0 out of 5 stars</td>\n",
       "      <td>I used several phone except like this type of phone but this phone is very silky smoothy.90hz ...</td>\n",
       "      <td>[used, several, phone, except, like, type, phone, phone, silky, smoothy, 90hz, refresh, rate, sp...</td>\n",
       "      <td>used several phone except like type phone phone silky smoothy 90hz refresh rate speed good smoot...</td>\n",
       "      <td>3</td>\n",
       "    </tr>\n",
       "    <tr>\n",
       "      <th>2</th>\n",
       "      <td>2.0 out of 5 stars</td>\n",
       "      <td>Average phone from one plus but surprisingly very bad battery life though good battery on pape...</td>\n",
       "      <td>[average, phone, one, plus, surprisingly, bad, battery, life, though, good, battery, paper, disa...</td>\n",
       "      <td>average phone one plus surprisingly bad battery life though good battery paper disappointed</td>\n",
       "      <td>1</td>\n",
       "    </tr>\n",
       "    <tr>\n",
       "      <th>3</th>\n",
       "      <td>1.0 out of 5 stars</td>\n",
       "      <td>Display has green tint issue..display looks like a very cheap quality phone. Want to return th...</td>\n",
       "      <td>[display, green, tint, issue, display, looks, like, cheap, quality, phone, want, return, phone, ...</td>\n",
       "      <td>display green tint issue display look like cheap quality phone want return phone amazon offering...</td>\n",
       "      <td>1</td>\n",
       "    </tr>\n",
       "    <tr>\n",
       "      <th>4</th>\n",
       "      <td>3.0 out of 5 stars</td>\n",
       "      <td>OnePlus Nord is a very competitive smartphone in this segment.Pros.Device is pretty impressive...</td>\n",
       "      <td>[oneplus, nord, competitive, smartphone, segment, pros, device, pretty, impressive, looks, premi...</td>\n",
       "      <td>oneplus nord competitive smartphone segment pro device pretty impressive look premium 1 screen l...</td>\n",
       "      <td>2</td>\n",
       "    </tr>\n",
       "  </tbody>\n",
       "</table>\n",
       "</div>"
      ],
      "text/plain": [
       "               Rating  \\\n",
       "0  5.0 out of 5 stars   \n",
       "1  4.0 out of 5 stars   \n",
       "2  2.0 out of 5 stars   \n",
       "3  1.0 out of 5 stars   \n",
       "4  3.0 out of 5 stars   \n",
       "\n",
       "                                                                                                Review  \\\n",
       "0    Brilliant..I have uploaded some pics of selfie as well as Portrait shot of near by shot.What i...   \n",
       "1    I used several phone except like this type of phone but this phone is very silky smoothy.90hz ...   \n",
       "2    Average phone from one plus but surprisingly very bad battery life though good battery on pape...   \n",
       "3    Display has green tint issue..display looks like a very cheap quality phone. Want to return th...   \n",
       "4    OnePlus Nord is a very competitive smartphone in this segment.Pros.Device is pretty impressive...   \n",
       "\n",
       "                                                                                          clean_review  \\\n",
       "0  [brilliant, uploaded, pics, selfie, well, portrait, shot, near, shot, loved, phone, good, sensor...   \n",
       "1  [used, several, phone, except, like, type, phone, phone, silky, smoothy, 90hz, refresh, rate, sp...   \n",
       "2  [average, phone, one, plus, surprisingly, bad, battery, life, though, good, battery, paper, disa...   \n",
       "3  [display, green, tint, issue, display, looks, like, cheap, quality, phone, want, return, phone, ...   \n",
       "4  [oneplus, nord, competitive, smartphone, segment, pros, device, pretty, impressive, looks, premi...   \n",
       "\n",
       "                                                                                            lemmatized  \\\n",
       "0  brilliant uploaded pic selfie well portrait shot near shot loved phone good sensor first phone j...   \n",
       "1  used several phone except like type phone phone silky smoothy 90hz refresh rate speed good smoot...   \n",
       "2          average phone one plus surprisingly bad battery life though good battery paper disappointed   \n",
       "3  display green tint issue display look like cheap quality phone want return phone amazon offering...   \n",
       "4  oneplus nord competitive smartphone segment pro device pretty impressive look premium 1 screen l...   \n",
       "\n",
       "   feedback  \n",
       "0         3  \n",
       "1         3  \n",
       "2         1  \n",
       "3         1  \n",
       "4         2  "
      ]
     },
     "execution_count": 8,
     "metadata": {},
     "output_type": "execute_result"
    }
   ],
   "source": [
    "def feedback(text):\n",
    "    if(int(text[0])>3):\n",
    "        return 3\n",
    "    if(int(text[0])<3):\n",
    "        return 1\n",
    "    else:\n",
    "        return 2\n",
    "df['feedback'] = df['Rating'].apply(lambda x : feedback(x))    \n",
    "df.head()"
   ]
  },
  {
   "cell_type": "markdown",
   "metadata": {},
   "source": [
    "3-->positive ; 2-->neutral ; 1-->negative"
   ]
  },
  {
   "cell_type": "code",
   "execution_count": 9,
   "metadata": {},
   "outputs": [
    {
     "name": "stdout",
     "output_type": "stream",
     "text": [
      "(4650,)\n",
      "(4650,)\n"
     ]
    }
   ],
   "source": [
    "x = df.lemmatized\n",
    "y=df.feedback\n",
    "print(x.shape)\n",
    "print(y.shape)"
   ]
  },
  {
   "cell_type": "code",
   "execution_count": 10,
   "metadata": {},
   "outputs": [
    {
     "name": "stdout",
     "output_type": "stream",
     "text": [
      "(4650, 3)\n"
     ]
    }
   ],
   "source": [
    "Y = pd.get_dummies(df['feedback']).values\n",
    "print( Y.shape)"
   ]
  },
  {
   "cell_type": "code",
   "execution_count": 11,
   "metadata": {},
   "outputs": [
    {
     "data": {
      "text/plain": [
       "list"
      ]
     },
     "execution_count": 11,
     "metadata": {},
     "output_type": "execute_result"
    }
   ],
   "source": [
    "corpus=[]\n",
    "for sentence in x:\n",
    "    corpus.append(sentence)\n",
    "\n",
    "type(corpus)"
   ]
  },
  {
   "cell_type": "code",
   "execution_count": 12,
   "metadata": {},
   "outputs": [],
   "source": [
    "from sklearn.model_selection import train_test_split\n",
    "X_train, X_test, y_train, y_test = train_test_split(corpus, Y, test_size=0.10, random_state=42 , stratify = Y)"
   ]
  },
  {
   "cell_type": "code",
   "execution_count": 13,
   "metadata": {},
   "outputs": [],
   "source": [
    "from keras.preprocessing.text import Tokenizer\n",
    "\n",
    "tokenizer = Tokenizer(num_words=200, filters='!\"#$%&()*+,-./:;<=>?@[\\]^_`{|}~', lower=True ,oov_token='<OOV>')\n",
    "tokenizer.fit_on_texts(X_train)\n",
    "word_index = tokenizer.word_index\n",
    "\n",
    "training_sequences = tokenizer.texts_to_sequences(X_train)\n",
    "training_padded = pad_sequences(training_sequences, maxlen=200)\n",
    "\n",
    "testing_sequences = tokenizer.texts_to_sequences(X_test)\n",
    "testing_padded = pad_sequences(testing_sequences, maxlen=200)"
   ]
  },
  {
   "cell_type": "markdown",
   "metadata": {},
   "source": [
    "voc_size = 50000\n",
    "onehot_repr=[one_hot(words,voc_size)for words in corpus] \n",
    "onehot_repr"
   ]
  },
  {
   "cell_type": "markdown",
   "metadata": {},
   "source": [
    "voc_size = 50000\n",
    "sent_length=200\n",
    "embedded_docs=pad_sequences(onehot_repr,padding='pre',maxlen=sent_length)\n",
    "print(embedded_docs)"
   ]
  },
  {
   "cell_type": "code",
   "execution_count": 14,
   "metadata": {},
   "outputs": [
    {
     "name": "stdout",
     "output_type": "stream",
     "text": [
      "Model: \"sequential\"\n",
      "_________________________________________________________________\n",
      "Layer (type)                 Output Shape              Param #   \n",
      "=================================================================\n",
      "embedding (Embedding)        (None, 200, 100)          5000000   \n",
      "_________________________________________________________________\n",
      "lstm (LSTM)                  (None, 100)               80400     \n",
      "_________________________________________________________________\n",
      "dense (Dense)                (None, 3)                 303       \n",
      "=================================================================\n",
      "Total params: 5,080,703\n",
      "Trainable params: 5,080,703\n",
      "Non-trainable params: 0\n",
      "_________________________________________________________________\n",
      "None\n"
     ]
    }
   ],
   "source": [
    "voc_size = 50000\n",
    "sent_length=200\n",
    "embedding_vector_features=100\n",
    "model=Sequential()\n",
    "model.add(Embedding(voc_size,embedding_vector_features,input_length=sent_length))\n",
    "model.add(LSTM(100))\n",
    "model.add(Dense(3,activation='softmax'))\n",
    "model.compile(loss='categorical_crossentropy',optimizer='adam',metrics=['accuracy'])\n",
    "print(model.summary())"
   ]
  },
  {
   "cell_type": "markdown",
   "metadata": {},
   "source": [
    "X_final=np.array(embedded_docs)\n",
    "y_final=np.array(Y)"
   ]
  },
  {
   "cell_type": "markdown",
   "metadata": {},
   "source": [
    "print(X_final.shape)\n",
    "print(Y)"
   ]
  },
  {
   "cell_type": "code",
   "execution_count": 15,
   "metadata": {},
   "outputs": [
    {
     "name": "stdout",
     "output_type": "stream",
     "text": [
      "Epoch 1/5\n",
      "66/66 [==============================] - 16s 237ms/step - loss: 0.8404 - accuracy: 0.6717 - val_loss: 0.7280 - val_accuracy: 0.7097\n",
      "Epoch 2/5\n",
      "66/66 [==============================] - 16s 250ms/step - loss: 0.6313 - accuracy: 0.7563 - val_loss: 0.5801 - val_accuracy: 0.7742\n",
      "Epoch 3/5\n",
      "66/66 [==============================] - 19s 282ms/step - loss: 0.5755 - accuracy: 0.7742 - val_loss: 0.6087 - val_accuracy: 0.7785\n",
      "Epoch 4/5\n",
      "66/66 [==============================] - 18s 272ms/step - loss: 0.5634 - accuracy: 0.7814 - val_loss: 0.5907 - val_accuracy: 0.7871\n",
      "Epoch 5/5\n",
      "66/66 [==============================] - 17s 255ms/step - loss: 0.5512 - accuracy: 0.7821 - val_loss: 0.5976 - val_accuracy: 0.7656\n"
     ]
    },
    {
     "data": {
      "text/plain": [
       "<tensorflow.python.keras.callbacks.History at 0x171265048b0>"
      ]
     },
     "execution_count": 15,
     "metadata": {},
     "output_type": "execute_result"
    }
   ],
   "source": [
    "model.fit(training_padded,y_train,epochs=5, validation_data=(testing_padded, y_test) ,batch_size=64)"
   ]
  },
  {
   "cell_type": "markdown",
   "metadata": {},
   "source": [
    "df['feedback'].value_counts()"
   ]
  },
  {
   "cell_type": "markdown",
   "metadata": {},
   "source": [
    "accr = model.evaluate(X_test,y_test)"
   ]
  },
  {
   "cell_type": "code",
   "execution_count": 26,
   "metadata": {},
   "outputs": [
    {
     "name": "stdout",
     "output_type": "stream",
     "text": [
      "[[0.32009372 0.2508467  0.42905957]] 3\n"
     ]
    }
   ],
   "source": [
    "new_complaint = ['below expectation']\n",
    "seq = tokenizer.texts_to_sequences(new_complaint)\n",
    "#onehot_repr=[one_hot(words,voc_size)for words in new_complaint ] \n",
    "padded = pad_sequences(seq, maxlen=200)\n",
    "pred = model.predict(padded)\n",
    "labels = ['1','2','3']\n",
    "print(pred, labels[np.argmax(pred)])"
   ]
  },
  {
   "cell_type": "code",
   "execution_count": 36,
   "metadata": {},
   "outputs": [
    {
     "data": {
      "text/plain": [
       "array([[0, 0, 1],\n",
       "       [0, 0, 1],\n",
       "       [1, 0, 0],\n",
       "       [1, 0, 0],\n",
       "       [0, 1, 0]], dtype=uint8)"
      ]
     },
     "execution_count": 36,
     "metadata": {},
     "output_type": "execute_result"
    }
   ],
   "source": [
    "Y[:5]"
   ]
  },
  {
   "cell_type": "code",
   "execution_count": 50,
   "metadata": {},
   "outputs": [],
   "source": [
    "y_pred = model.predict(X_test)\n",
    "y_pred = y_pred"
   ]
  },
  {
   "cell_type": "code",
   "execution_count": 52,
   "metadata": {},
   "outputs": [
    {
     "data": {
      "text/plain": [
       "array([[3.8063002e-04, 3.3043923e-03, 9.9631494e-01],\n",
       "       [1.4203001e-03, 8.2844673e-03, 9.9029529e-01],\n",
       "       [4.4779194e-05, 4.7365340e-04, 9.9948162e-01],\n",
       "       [9.9503148e-01, 4.5174556e-03, 4.5111313e-04],\n",
       "       [3.2934359e-01, 6.2655056e-01, 4.4105794e-02]], dtype=float32)"
      ]
     },
     "execution_count": 52,
     "metadata": {},
     "output_type": "execute_result"
    }
   ],
   "source": [
    "y_pred[:5]"
   ]
  },
  {
   "cell_type": "code",
   "execution_count": 53,
   "metadata": {},
   "outputs": [
    {
     "data": {
      "text/plain": [
       "array([[0, 0, 1],\n",
       "       [0, 0, 1],\n",
       "       [0, 0, 1],\n",
       "       [1, 0, 0],\n",
       "       [1, 0, 0]], dtype=uint8)"
      ]
     },
     "execution_count": 53,
     "metadata": {},
     "output_type": "execute_result"
    }
   ],
   "source": [
    "y_test[:5]"
   ]
  },
  {
   "cell_type": "code",
   "execution_count": 21,
   "metadata": {},
   "outputs": [],
   "source": [
    "import matplotlib as plt"
   ]
  },
  {
   "cell_type": "code",
   "execution_count": 25,
   "metadata": {},
   "outputs": [
    {
     "data": {
      "text/plain": [
       "<matplotlib.axes._subplots.AxesSubplot at 0x171362e7130>"
      ]
     },
     "execution_count": 25,
     "metadata": {},
     "output_type": "execute_result"
    },
    {
     "data": {
      "image/png": "[encoded data removed]",
      "text/plain": [
       "<Figure size 432x288 with 1 Axes>"
      ]
     },
     "metadata": {
      "needs_background": "light"
     },
     "output_type": "display_data"
    }
   ],
   "source": [
    "bar = y.value_counts()\n",
    "bar.plot(kind='bar')"
   ]
  },
  {
   "cell_type": "code",
   "execution_count": null,
   "metadata": {},
   "outputs": [],
   "source": []
  }
 ],
 "metadata": {
  "kernelspec": {
   "display_name": "Python 3",
   "language": "python",
   "name": "python3"
  },
  "language_info": {
   "codemirror_mode": {
    "name": "ipython",
    "version": 3
   },
   "file_extension": ".py",
   "mimetype": "text/x-python",
   "name": "python",
   "nbconvert_exporter": "python",
   "pygments_lexer": "ipython3",
   "version": "3.8.2"
  }
 },
 "nbformat": 4,
 "nbformat_minor": 4
}
