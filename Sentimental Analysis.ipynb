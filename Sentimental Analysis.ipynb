{
 "cells": [
  {
   "cell_type": "code",
   "execution_count": 1,
   "metadata": {},
   "outputs": [],
   "source": [
    "import pandas as pd\n",
    "import numpy as np\n",
    "import string\n",
    "import re\n",
    "import nltk\n",
    "import sklearn"
   ]
  },
  {
   "cell_type": "code",
   "execution_count": 10,
   "metadata": {},
   "outputs": [
    {
     "data": {
      "text/html": [
       "<div>\n",
       "<style scoped>\n",
       "    .dataframe tbody tr th:only-of-type {\n",
       "        vertical-align: middle;\n",
       "    }\n",
       "\n",
       "    .dataframe tbody tr th {\n",
       "        vertical-align: top;\n",
       "    }\n",
       "\n",
       "    .dataframe thead th {\n",
       "        text-align: right;\n",
       "    }\n",
       "</style>\n",
       "<table border=\"1\" class=\"dataframe\">\n",
       "  <thead>\n",
       "    <tr style=\"text-align: right;\">\n",
       "      <th></th>\n",
       "      <th>Unnamed: 0</th>\n",
       "      <th>Customer Name</th>\n",
       "      <th>Title</th>\n",
       "      <th>Rating</th>\n",
       "      <th>Review</th>\n",
       "    </tr>\n",
       "  </thead>\n",
       "  <tbody>\n",
       "    <tr>\n",
       "      <th>0</th>\n",
       "      <td>0</td>\n",
       "      <td>vasu a.</td>\n",
       "      <td>Beast in OnePlus.</td>\n",
       "      <td>5.0 out of 5 stars</td>\n",
       "      <td>Brilliant..I have uploaded some pics of selfie as well as Portrait shot of near by shot.What i...</td>\n",
       "    </tr>\n",
       "    <tr>\n",
       "      <th>1</th>\n",
       "      <td>1</td>\n",
       "      <td>Amazon Customer</td>\n",
       "      <td>OnePlus nord</td>\n",
       "      <td>4.0 out of 5 stars</td>\n",
       "      <td>I used several phone except like this type of phone but this phone is very silky smoothy.90hz ...</td>\n",
       "    </tr>\n",
       "    <tr>\n",
       "      <th>2</th>\n",
       "      <td>2</td>\n",
       "      <td>ATMANAND  SHARMA</td>\n",
       "      <td>Khoda pahad nikli chuihya</td>\n",
       "      <td>2.0 out of 5 stars</td>\n",
       "      <td>Average phone from one plus but surprisingly very bad battery life though good battery on pape...</td>\n",
       "    </tr>\n",
       "    <tr>\n",
       "      <th>3</th>\n",
       "      <td>3</td>\n",
       "      <td>Amazon Customer</td>\n",
       "      <td>One plus Nord issues</td>\n",
       "      <td>1.0 out of 5 stars</td>\n",
       "      <td>Display has green tint issue..display looks like a very cheap quality phone. Want to return th...</td>\n",
       "    </tr>\n",
       "    <tr>\n",
       "      <th>4</th>\n",
       "      <td>4</td>\n",
       "      <td>ARYA</td>\n",
       "      <td>'More than midrange but less than premium '.  This phone has heating issues...😥</td>\n",
       "      <td>3.0 out of 5 stars</td>\n",
       "      <td>OnePlus Nord is a very competitive smartphone in this segment.Pros.Device is pretty impressive...</td>\n",
       "    </tr>\n",
       "  </tbody>\n",
       "</table>\n",
       "</div>"
      ],
      "text/plain": [
       "   Unnamed: 0     Customer Name  \\\n",
       "0           0           vasu a.   \n",
       "1           1   Amazon Customer   \n",
       "2           2  ATMANAND  SHARMA   \n",
       "3           3   Amazon Customer   \n",
       "4           4              ARYA   \n",
       "\n",
       "                                                                             Title  \\\n",
       "0                                                                Beast in OnePlus.   \n",
       "1                                                                     OnePlus nord   \n",
       "2                                                        Khoda pahad nikli chuihya   \n",
       "3                                                             One plus Nord issues   \n",
       "4  'More than midrange but less than premium '.  This phone has heating issues...😥   \n",
       "\n",
       "               Rating  \\\n",
       "0  5.0 out of 5 stars   \n",
       "1  4.0 out of 5 stars   \n",
       "2  2.0 out of 5 stars   \n",
       "3  1.0 out of 5 stars   \n",
       "4  3.0 out of 5 stars   \n",
       "\n",
       "                                                                                                Review  \n",
       "0    Brilliant..I have uploaded some pics of selfie as well as Portrait shot of near by shot.What i...  \n",
       "1    I used several phone except like this type of phone but this phone is very silky smoothy.90hz ...  \n",
       "2    Average phone from one plus but surprisingly very bad battery life though good battery on pape...  \n",
       "3    Display has green tint issue..display looks like a very cheap quality phone. Want to return th...  \n",
       "4    OnePlus Nord is a very competitive smartphone in this segment.Pros.Device is pretty impressive...  "
      ]
     },
     "execution_count": 10,
     "metadata": {},
     "output_type": "execute_result"
    }
   ],
   "source": [
    "df = pd.read_csv(r'C:\\Users\\ANURAG DHAWAN\\Desktop\\PROJECT\\Datasets\\amazon_reviews.csv')\n",
    "df.head()"
   ]
  },
  {
   "cell_type": "code",
   "execution_count": 11,
   "metadata": {},
   "outputs": [
    {
     "name": "stderr",
     "output_type": "stream",
     "text": [
      "[nltk_data] Downloading package stopwords to C:\\Users\\ANURAG\n",
      "[nltk_data]     DHAWAN\\AppData\\Roaming\\nltk_data...\n",
      "[nltk_data]   Package stopwords is already up-to-date!\n"
     ]
    },
    {
     "data": {
      "text/html": [
       "<div>\n",
       "<style scoped>\n",
       "    .dataframe tbody tr th:only-of-type {\n",
       "        vertical-align: middle;\n",
       "    }\n",
       "\n",
       "    .dataframe tbody tr th {\n",
       "        vertical-align: top;\n",
       "    }\n",
       "\n",
       "    .dataframe thead th {\n",
       "        text-align: right;\n",
       "    }\n",
       "</style>\n",
       "<table border=\"1\" class=\"dataframe\">\n",
       "  <thead>\n",
       "    <tr style=\"text-align: right;\">\n",
       "      <th></th>\n",
       "      <th>Rating</th>\n",
       "      <th>Review</th>\n",
       "    </tr>\n",
       "  </thead>\n",
       "  <tbody>\n",
       "    <tr>\n",
       "      <th>0</th>\n",
       "      <td>5.0 out of 5 stars</td>\n",
       "      <td>Brilliant..I have uploaded some pics of selfie as well as Portrait shot of near by shot.What i...</td>\n",
       "    </tr>\n",
       "    <tr>\n",
       "      <th>1</th>\n",
       "      <td>4.0 out of 5 stars</td>\n",
       "      <td>I used several phone except like this type of phone but this phone is very silky smoothy.90hz ...</td>\n",
       "    </tr>\n",
       "    <tr>\n",
       "      <th>2</th>\n",
       "      <td>2.0 out of 5 stars</td>\n",
       "      <td>Average phone from one plus but surprisingly very bad battery life though good battery on pape...</td>\n",
       "    </tr>\n",
       "    <tr>\n",
       "      <th>3</th>\n",
       "      <td>1.0 out of 5 stars</td>\n",
       "      <td>Display has green tint issue..display looks like a very cheap quality phone. Want to return th...</td>\n",
       "    </tr>\n",
       "    <tr>\n",
       "      <th>4</th>\n",
       "      <td>3.0 out of 5 stars</td>\n",
       "      <td>OnePlus Nord is a very competitive smartphone in this segment.Pros.Device is pretty impressive...</td>\n",
       "    </tr>\n",
       "  </tbody>\n",
       "</table>\n",
       "</div>"
      ],
      "text/plain": [
       "               Rating  \\\n",
       "0  5.0 out of 5 stars   \n",
       "1  4.0 out of 5 stars   \n",
       "2  2.0 out of 5 stars   \n",
       "3  1.0 out of 5 stars   \n",
       "4  3.0 out of 5 stars   \n",
       "\n",
       "                                                                                                Review  \n",
       "0    Brilliant..I have uploaded some pics of selfie as well as Portrait shot of near by shot.What i...  \n",
       "1    I used several phone except like this type of phone but this phone is very silky smoothy.90hz ...  \n",
       "2    Average phone from one plus but surprisingly very bad battery life though good battery on pape...  \n",
       "3    Display has green tint issue..display looks like a very cheap quality phone. Want to return th...  \n",
       "4    OnePlus Nord is a very competitive smartphone in this segment.Pros.Device is pretty impressive...  "
      ]
     },
     "execution_count": 11,
     "metadata": {},
     "output_type": "execute_result"
    }
   ],
   "source": [
    "df = df.drop(['Unnamed: 0','Customer Name','Title'],axis=1)\n",
    "pd.set_option('display.max_colwidth',100)\n",
    "\n",
    "nltk.download('stopwords')\n",
    "df.head()"
   ]
  },
  {
   "cell_type": "code",
   "execution_count": 14,
   "metadata": {},
   "outputs": [],
   "source": [
    "def data_clean(text):\n",
    "    translator= str.maketrans(string.punctuation, ' '*len(string.punctuation))\n",
    "    text = text.translate(translator)\n",
    "    emoji_pattern = re.compile(\"[\"\n",
    "                           u\"\\U0001F600-\\U0001F64F\"  \n",
    "                           u\"\\U0001F300-\\U0001F5FF\"  \n",
    "                           u\"\\U0001F680-\\U0001F6FF\"  \n",
    "                           u\"\\U0001F1E0-\\U0001F1FF\"  \n",
    "                           u\"\\U00002702-\\U000027B0\"\n",
    "                           u\"\\U000024C2-\\U0001F251\"\n",
    "                           \"]+\", flags=re.UNICODE)\n",
    "    text = emoji_pattern.sub(r'', text)\n",
    "    tokens = re.split(\"\\W+\",text)\n",
    "    stopwords = nltk.corpus.stopwords.words('english')\n",
    "    text = [word for word in tokens if word not in stopwords]\n",
    "    return text"
   ]
  },
  {
   "cell_type": "code",
   "execution_count": 15,
   "metadata": {},
   "outputs": [
    {
     "data": {
      "text/html": [
       "<div>\n",
       "<style scoped>\n",
       "    .dataframe tbody tr th:only-of-type {\n",
       "        vertical-align: middle;\n",
       "    }\n",
       "\n",
       "    .dataframe tbody tr th {\n",
       "        vertical-align: top;\n",
       "    }\n",
       "\n",
       "    .dataframe thead th {\n",
       "        text-align: right;\n",
       "    }\n",
       "</style>\n",
       "<table border=\"1\" class=\"dataframe\">\n",
       "  <thead>\n",
       "    <tr style=\"text-align: right;\">\n",
       "      <th></th>\n",
       "      <th>Rating</th>\n",
       "      <th>Review</th>\n",
       "      <th>clean_review</th>\n",
       "    </tr>\n",
       "  </thead>\n",
       "  <tbody>\n",
       "    <tr>\n",
       "      <th>0</th>\n",
       "      <td>5.0 out of 5 stars</td>\n",
       "      <td>Brilliant..I have uploaded some pics of selfie as well as Portrait shot of near by shot.What i...</td>\n",
       "      <td>[, brilliant, uploaded, pics, selfie, well, portrait, shot, near, shot, loved, phone, good, sens...</td>\n",
       "    </tr>\n",
       "    <tr>\n",
       "      <th>1</th>\n",
       "      <td>4.0 out of 5 stars</td>\n",
       "      <td>I used several phone except like this type of phone but this phone is very silky smoothy.90hz ...</td>\n",
       "      <td>[, used, several, phone, except, like, type, phone, phone, silky, smoothy, 90hz, refresh, rate, ...</td>\n",
       "    </tr>\n",
       "    <tr>\n",
       "      <th>2</th>\n",
       "      <td>2.0 out of 5 stars</td>\n",
       "      <td>Average phone from one plus but surprisingly very bad battery life though good battery on pape...</td>\n",
       "      <td>[, average, phone, one, plus, surprisingly, bad, battery, life, though, good, battery, paper, di...</td>\n",
       "    </tr>\n",
       "    <tr>\n",
       "      <th>3</th>\n",
       "      <td>1.0 out of 5 stars</td>\n",
       "      <td>Display has green tint issue..display looks like a very cheap quality phone. Want to return th...</td>\n",
       "      <td>[, display, green, tint, issue, display, looks, like, cheap, quality, phone, want, return, phone...</td>\n",
       "    </tr>\n",
       "    <tr>\n",
       "      <th>4</th>\n",
       "      <td>3.0 out of 5 stars</td>\n",
       "      <td>OnePlus Nord is a very competitive smartphone in this segment.Pros.Device is pretty impressive...</td>\n",
       "      <td>[, oneplus, nord, competitive, smartphone, segment, pros, device, pretty, impressive, looks, pre...</td>\n",
       "    </tr>\n",
       "  </tbody>\n",
       "</table>\n",
       "</div>"
      ],
      "text/plain": [
       "               Rating  \\\n",
       "0  5.0 out of 5 stars   \n",
       "1  4.0 out of 5 stars   \n",
       "2  2.0 out of 5 stars   \n",
       "3  1.0 out of 5 stars   \n",
       "4  3.0 out of 5 stars   \n",
       "\n",
       "                                                                                                Review  \\\n",
       "0    Brilliant..I have uploaded some pics of selfie as well as Portrait shot of near by shot.What i...   \n",
       "1    I used several phone except like this type of phone but this phone is very silky smoothy.90hz ...   \n",
       "2    Average phone from one plus but surprisingly very bad battery life though good battery on pape...   \n",
       "3    Display has green tint issue..display looks like a very cheap quality phone. Want to return th...   \n",
       "4    OnePlus Nord is a very competitive smartphone in this segment.Pros.Device is pretty impressive...   \n",
       "\n",
       "                                                                                          clean_review  \n",
       "0  [, brilliant, uploaded, pics, selfie, well, portrait, shot, near, shot, loved, phone, good, sens...  \n",
       "1  [, used, several, phone, except, like, type, phone, phone, silky, smoothy, 90hz, refresh, rate, ...  \n",
       "2  [, average, phone, one, plus, surprisingly, bad, battery, life, though, good, battery, paper, di...  \n",
       "3  [, display, green, tint, issue, display, looks, like, cheap, quality, phone, want, return, phone...  \n",
       "4  [, oneplus, nord, competitive, smartphone, segment, pros, device, pretty, impressive, looks, pre...  "
      ]
     },
     "execution_count": 15,
     "metadata": {},
     "output_type": "execute_result"
    }
   ],
   "source": [
    "df['clean_review']= df['Review'].apply(lambda x: data_clean(x.lower()))\n",
    "df.head()"
   ]
  },
  {
   "cell_type": "code",
   "execution_count": 18,
   "metadata": {},
   "outputs": [
    {
     "data": {
      "text/html": [
       "<div>\n",
       "<style scoped>\n",
       "    .dataframe tbody tr th:only-of-type {\n",
       "        vertical-align: middle;\n",
       "    }\n",
       "\n",
       "    .dataframe tbody tr th {\n",
       "        vertical-align: top;\n",
       "    }\n",
       "\n",
       "    .dataframe thead th {\n",
       "        text-align: right;\n",
       "    }\n",
       "</style>\n",
       "<table border=\"1\" class=\"dataframe\">\n",
       "  <thead>\n",
       "    <tr style=\"text-align: right;\">\n",
       "      <th></th>\n",
       "      <th>Rating</th>\n",
       "      <th>Review</th>\n",
       "      <th>clean_review</th>\n",
       "      <th>lemmatized</th>\n",
       "    </tr>\n",
       "  </thead>\n",
       "  <tbody>\n",
       "    <tr>\n",
       "      <th>0</th>\n",
       "      <td>5.0 out of 5 stars</td>\n",
       "      <td>Brilliant..I have uploaded some pics of selfie as well as Portrait shot of near by shot.What i...</td>\n",
       "      <td>[, brilliant, uploaded, pics, selfie, well, portrait, shot, near, shot, loved, phone, good, sens...</td>\n",
       "      <td>[, brilliant, uploaded, pic, selfie, well, portrait, shot, near, shot, loved, phone, good, senso...</td>\n",
       "    </tr>\n",
       "    <tr>\n",
       "      <th>1</th>\n",
       "      <td>4.0 out of 5 stars</td>\n",
       "      <td>I used several phone except like this type of phone but this phone is very silky smoothy.90hz ...</td>\n",
       "      <td>[, used, several, phone, except, like, type, phone, phone, silky, smoothy, 90hz, refresh, rate, ...</td>\n",
       "      <td>[, used, several, phone, except, like, type, phone, phone, silky, smoothy, 90hz, refresh, rate, ...</td>\n",
       "    </tr>\n",
       "    <tr>\n",
       "      <th>2</th>\n",
       "      <td>2.0 out of 5 stars</td>\n",
       "      <td>Average phone from one plus but surprisingly very bad battery life though good battery on pape...</td>\n",
       "      <td>[, average, phone, one, plus, surprisingly, bad, battery, life, though, good, battery, paper, di...</td>\n",
       "      <td>[, average, phone, one, plus, surprisingly, bad, battery, life, though, good, battery, paper, di...</td>\n",
       "    </tr>\n",
       "    <tr>\n",
       "      <th>3</th>\n",
       "      <td>1.0 out of 5 stars</td>\n",
       "      <td>Display has green tint issue..display looks like a very cheap quality phone. Want to return th...</td>\n",
       "      <td>[, display, green, tint, issue, display, looks, like, cheap, quality, phone, want, return, phone...</td>\n",
       "      <td>[, display, green, tint, issue, display, look, like, cheap, quality, phone, want, return, phone,...</td>\n",
       "    </tr>\n",
       "    <tr>\n",
       "      <th>4</th>\n",
       "      <td>3.0 out of 5 stars</td>\n",
       "      <td>OnePlus Nord is a very competitive smartphone in this segment.Pros.Device is pretty impressive...</td>\n",
       "      <td>[, oneplus, nord, competitive, smartphone, segment, pros, device, pretty, impressive, looks, pre...</td>\n",
       "      <td>[, oneplus, nord, competitive, smartphone, segment, pro, device, pretty, impressive, look, premi...</td>\n",
       "    </tr>\n",
       "  </tbody>\n",
       "</table>\n",
       "</div>"
      ],
      "text/plain": [
       "               Rating  \\\n",
       "0  5.0 out of 5 stars   \n",
       "1  4.0 out of 5 stars   \n",
       "2  2.0 out of 5 stars   \n",
       "3  1.0 out of 5 stars   \n",
       "4  3.0 out of 5 stars   \n",
       "\n",
       "                                                                                                Review  \\\n",
       "0    Brilliant..I have uploaded some pics of selfie as well as Portrait shot of near by shot.What i...   \n",
       "1    I used several phone except like this type of phone but this phone is very silky smoothy.90hz ...   \n",
       "2    Average phone from one plus but surprisingly very bad battery life though good battery on pape...   \n",
       "3    Display has green tint issue..display looks like a very cheap quality phone. Want to return th...   \n",
       "4    OnePlus Nord is a very competitive smartphone in this segment.Pros.Device is pretty impressive...   \n",
       "\n",
       "                                                                                          clean_review  \\\n",
       "0  [, brilliant, uploaded, pics, selfie, well, portrait, shot, near, shot, loved, phone, good, sens...   \n",
       "1  [, used, several, phone, except, like, type, phone, phone, silky, smoothy, 90hz, refresh, rate, ...   \n",
       "2  [, average, phone, one, plus, surprisingly, bad, battery, life, though, good, battery, paper, di...   \n",
       "3  [, display, green, tint, issue, display, looks, like, cheap, quality, phone, want, return, phone...   \n",
       "4  [, oneplus, nord, competitive, smartphone, segment, pros, device, pretty, impressive, looks, pre...   \n",
       "\n",
       "                                                                                            lemmatized  \n",
       "0  [, brilliant, uploaded, pic, selfie, well, portrait, shot, near, shot, loved, phone, good, senso...  \n",
       "1  [, used, several, phone, except, like, type, phone, phone, silky, smoothy, 90hz, refresh, rate, ...  \n",
       "2  [, average, phone, one, plus, surprisingly, bad, battery, life, though, good, battery, paper, di...  \n",
       "3  [, display, green, tint, issue, display, look, like, cheap, quality, phone, want, return, phone,...  \n",
       "4  [, oneplus, nord, competitive, smartphone, segment, pro, device, pretty, impressive, look, premi...  "
      ]
     },
     "execution_count": 18,
     "metadata": {},
     "output_type": "execute_result"
    }
   ],
   "source": [
    "stopwords = nltk.corpus.stopwords.words('english')\n",
    "wn = nltk.WordNetLemmatizer()\n",
    "def lemmatization(tokens):\n",
    "    text = [wn.lemmatize(word) for word in tokens if word not in stopwords]\n",
    "    return text\n",
    "\n",
    "df['lemmatized'] = df['clean_review'].apply(lambda x: lemmatization(x))\n",
    "df.head()"
   ]
  },
  {
   "cell_type": "code",
   "execution_count": 20,
   "metadata": {},
   "outputs": [
    {
     "data": {
      "text/html": [
       "<div>\n",
       "<style scoped>\n",
       "    .dataframe tbody tr th:only-of-type {\n",
       "        vertical-align: middle;\n",
       "    }\n",
       "\n",
       "    .dataframe tbody tr th {\n",
       "        vertical-align: top;\n",
       "    }\n",
       "\n",
       "    .dataframe thead th {\n",
       "        text-align: right;\n",
       "    }\n",
       "</style>\n",
       "<table border=\"1\" class=\"dataframe\">\n",
       "  <thead>\n",
       "    <tr style=\"text-align: right;\">\n",
       "      <th></th>\n",
       "      <th>Rating</th>\n",
       "      <th>Review</th>\n",
       "      <th>clean_review</th>\n",
       "      <th>lemmatized</th>\n",
       "      <th>feedback</th>\n",
       "    </tr>\n",
       "  </thead>\n",
       "  <tbody>\n",
       "    <tr>\n",
       "      <th>0</th>\n",
       "      <td>5.0 out of 5 stars</td>\n",
       "      <td>Brilliant..I have uploaded some pics of selfie as well as Portrait shot of near by shot.What i...</td>\n",
       "      <td>[, brilliant, uploaded, pics, selfie, well, portrait, shot, near, shot, loved, phone, good, sens...</td>\n",
       "      <td>[, brilliant, uploaded, pic, selfie, well, portrait, shot, near, shot, loved, phone, good, senso...</td>\n",
       "      <td>3</td>\n",
       "    </tr>\n",
       "    <tr>\n",
       "      <th>1</th>\n",
       "      <td>4.0 out of 5 stars</td>\n",
       "      <td>I used several phone except like this type of phone but this phone is very silky smoothy.90hz ...</td>\n",
       "      <td>[, used, several, phone, except, like, type, phone, phone, silky, smoothy, 90hz, refresh, rate, ...</td>\n",
       "      <td>[, used, several, phone, except, like, type, phone, phone, silky, smoothy, 90hz, refresh, rate, ...</td>\n",
       "      <td>3</td>\n",
       "    </tr>\n",
       "    <tr>\n",
       "      <th>2</th>\n",
       "      <td>2.0 out of 5 stars</td>\n",
       "      <td>Average phone from one plus but surprisingly very bad battery life though good battery on pape...</td>\n",
       "      <td>[, average, phone, one, plus, surprisingly, bad, battery, life, though, good, battery, paper, di...</td>\n",
       "      <td>[, average, phone, one, plus, surprisingly, bad, battery, life, though, good, battery, paper, di...</td>\n",
       "      <td>1</td>\n",
       "    </tr>\n",
       "    <tr>\n",
       "      <th>3</th>\n",
       "      <td>1.0 out of 5 stars</td>\n",
       "      <td>Display has green tint issue..display looks like a very cheap quality phone. Want to return th...</td>\n",
       "      <td>[, display, green, tint, issue, display, looks, like, cheap, quality, phone, want, return, phone...</td>\n",
       "      <td>[, display, green, tint, issue, display, look, like, cheap, quality, phone, want, return, phone,...</td>\n",
       "      <td>1</td>\n",
       "    </tr>\n",
       "    <tr>\n",
       "      <th>4</th>\n",
       "      <td>3.0 out of 5 stars</td>\n",
       "      <td>OnePlus Nord is a very competitive smartphone in this segment.Pros.Device is pretty impressive...</td>\n",
       "      <td>[, oneplus, nord, competitive, smartphone, segment, pros, device, pretty, impressive, looks, pre...</td>\n",
       "      <td>[, oneplus, nord, competitive, smartphone, segment, pro, device, pretty, impressive, look, premi...</td>\n",
       "      <td>2</td>\n",
       "    </tr>\n",
       "  </tbody>\n",
       "</table>\n",
       "</div>"
      ],
      "text/plain": [
       "               Rating  \\\n",
       "0  5.0 out of 5 stars   \n",
       "1  4.0 out of 5 stars   \n",
       "2  2.0 out of 5 stars   \n",
       "3  1.0 out of 5 stars   \n",
       "4  3.0 out of 5 stars   \n",
       "\n",
       "                                                                                                Review  \\\n",
       "0    Brilliant..I have uploaded some pics of selfie as well as Portrait shot of near by shot.What i...   \n",
       "1    I used several phone except like this type of phone but this phone is very silky smoothy.90hz ...   \n",
       "2    Average phone from one plus but surprisingly very bad battery life though good battery on pape...   \n",
       "3    Display has green tint issue..display looks like a very cheap quality phone. Want to return th...   \n",
       "4    OnePlus Nord is a very competitive smartphone in this segment.Pros.Device is pretty impressive...   \n",
       "\n",
       "                                                                                          clean_review  \\\n",
       "0  [, brilliant, uploaded, pics, selfie, well, portrait, shot, near, shot, loved, phone, good, sens...   \n",
       "1  [, used, several, phone, except, like, type, phone, phone, silky, smoothy, 90hz, refresh, rate, ...   \n",
       "2  [, average, phone, one, plus, surprisingly, bad, battery, life, though, good, battery, paper, di...   \n",
       "3  [, display, green, tint, issue, display, looks, like, cheap, quality, phone, want, return, phone...   \n",
       "4  [, oneplus, nord, competitive, smartphone, segment, pros, device, pretty, impressive, looks, pre...   \n",
       "\n",
       "                                                                                            lemmatized  \\\n",
       "0  [, brilliant, uploaded, pic, selfie, well, portrait, shot, near, shot, loved, phone, good, senso...   \n",
       "1  [, used, several, phone, except, like, type, phone, phone, silky, smoothy, 90hz, refresh, rate, ...   \n",
       "2  [, average, phone, one, plus, surprisingly, bad, battery, life, though, good, battery, paper, di...   \n",
       "3  [, display, green, tint, issue, display, look, like, cheap, quality, phone, want, return, phone,...   \n",
       "4  [, oneplus, nord, competitive, smartphone, segment, pro, device, pretty, impressive, look, premi...   \n",
       "\n",
       "   feedback  \n",
       "0         3  \n",
       "1         3  \n",
       "2         1  \n",
       "3         1  \n",
       "4         2  "
      ]
     },
     "execution_count": 20,
     "metadata": {},
     "output_type": "execute_result"
    }
   ],
   "source": [
    "def feedback(text):\n",
    "    if(int(text[0])>3):\n",
    "        return 3\n",
    "    if(int(text[0])<3):\n",
    "        return 1\n",
    "    else:\n",
    "        return 2\n",
    "df['feedback'] = df['Rating'].apply(lambda x : feedback(x))    \n",
    "df.head()"
   ]
  },
  {
   "cell_type": "markdown",
   "metadata": {},
   "source": [
    "3-->positive ; 2-->neutral ; 1-->negative"
   ]
  },
  {
   "cell_type": "code",
   "execution_count": 21,
   "metadata": {},
   "outputs": [
    {
     "name": "stdout",
     "output_type": "stream",
     "text": [
      "(4650,)\n",
      "(4650,)\n"
     ]
    }
   ],
   "source": [
    "x = df.lemmatized\n",
    "y=df.feedback\n",
    "print(x.shape)\n",
    "print(y.shape)"
   ]
  },
  {
   "cell_type": "code",
   "execution_count": 24,
   "metadata": {},
   "outputs": [],
   "source": [
    "from sklearn.model_selection import train_test_split \n",
    "\n",
    "X_train, X_test, y_train, y_test = train_test_split(x, y, test_size = 0.10, random_state= 1)\n",
    "X_train =X_train.apply(lambda x: ' '.join(x))\n",
    "X_test = X_test.apply(lambda x: ' '.join(x))"
   ]
  },
  {
   "cell_type": "code",
   "execution_count": 25,
   "metadata": {},
   "outputs": [
    {
     "name": "stdout",
     "output_type": "stream",
     "text": [
      "(4185, 7794)\n",
      "(465, 7794)\n"
     ]
    }
   ],
   "source": [
    "from sklearn.feature_extraction.text import TfidfVectorizer\n",
    "vect =TfidfVectorizer(analyzer = \"word\")\n",
    "vect.fit(X_train)\n",
    "x_train_vect =vect.transform(X_train)\n",
    "x_test_vect = vect.transform(X_test)\n",
    "print(x_train_vect.shape)\n",
    "print(x_test_vect.shape)"
   ]
  },
  {
   "cell_type": "code",
   "execution_count": 35,
   "metadata": {},
   "outputs": [],
   "source": [
    "from sklearn.linear_model import SGDClassifier\n",
    "sgd = SGDClassifier(random_state =42)\n",
    "sgd.fit(x_train_vect,y_train)\n",
    "y_predict = sgd.predict(x_test_vect)"
   ]
  },
  {
   "cell_type": "code",
   "execution_count": 36,
   "metadata": {},
   "outputs": [
    {
     "data": {
      "text/plain": [
       "array([0.76845878, 0.76200717, 0.77419355])"
      ]
     },
     "execution_count": 36,
     "metadata": {},
     "output_type": "execute_result"
    }
   ],
   "source": [
    "from sklearn.model_selection import cross_val_score  \n",
    "cross_val_score(estimator = sgd, X = x_train_vect, y = y_train, cv = 3,scoring=\"accuracy\") "
   ]
  },
  {
   "cell_type": "code",
   "execution_count": 39,
   "metadata": {},
   "outputs": [
    {
     "data": {
      "text/plain": [
       "array([0.68243728, 0.69390681, 0.67885305])"
      ]
     },
     "execution_count": 39,
     "metadata": {},
     "output_type": "execute_result"
    }
   ],
   "source": [
    "from sklearn.tree import DecisionTreeClassifier\n",
    "classifier2 = DecisionTreeClassifier()\n",
    "\n",
    "classifier2.fit(x_train_vect,y_train)\n",
    "cross_val_score(estimator = classifier2, X = x_train_vect, y = y_train, cv = 3,scoring=\"accuracy\") "
   ]
  },
  {
   "cell_type": "code",
   "execution_count": 45,
   "metadata": {},
   "outputs": [
    {
     "data": {
      "text/plain": [
       "array([[ 46,  13,  30],\n",
       "       [ 19,   8,  32],\n",
       "       [ 35,  18, 264]], dtype=int64)"
      ]
     },
     "execution_count": 45,
     "metadata": {},
     "output_type": "execute_result"
    }
   ],
   "source": [
    "from sklearn.metrics import confusion_matrix\n",
    "y_pred2 = classifier2.predict(x_test_vect)\n",
    "cm = confusion_matrix(y_test,y_pred2)\n",
    "cm"
   ]
  },
  {
   "cell_type": "code",
   "execution_count": 46,
   "metadata": {},
   "outputs": [
    {
     "data": {
      "image/png": "[encoded data removed]",
      "text/plain": [
       "<Figure size 288x288 with 1 Axes>"
      ]
     },
     "metadata": {
      "needs_background": "light"
     },
     "output_type": "display_data"
    }
   ],
   "source": [
    "import matplotlib.pyplot as plt \n",
    "plt.matshow(cm,cmap = plt.cm.gray)\n",
    "plt.show()"
   ]
  },
  {
   "cell_type": "code",
   "execution_count": 50,
   "metadata": {},
   "outputs": [
    {
     "data": {
      "text/plain": [
       "0.7827956989247312"
      ]
     },
     "execution_count": 50,
     "metadata": {},
     "output_type": "execute_result"
    }
   ],
   "source": [
    "from sklearn.svm import SVC \n",
    "svm_model_linear = SVC(kernel = 'linear', C = 1).fit(x_train_vect, y_train) \n",
    "svm_predictions = svm_model_linear.predict(x_test_vect) \n",
    "accuracy = svm_model_linear.score(x_test_vect, y_test)\n",
    "accuracy"
   ]
  },
  {
   "cell_type": "code",
   "execution_count": 53,
   "metadata": {},
   "outputs": [
    {
     "data": {
      "text/plain": [
       "array([[ 62,   5,  22],\n",
       "       [ 22,   4,  33],\n",
       "       [ 15,   4, 298]], dtype=int64)"
      ]
     },
     "execution_count": 53,
     "metadata": {},
     "output_type": "execute_result"
    }
   ],
   "source": [
    "cm = confusion_matrix(y_test, svm_predictions) \n",
    "cm"
   ]
  },
  {
   "cell_type": "code",
   "execution_count": 55,
   "metadata": {},
   "outputs": [
    {
     "data": {
      "text/plain": [
       "array([[ 40,   3,  46],\n",
       "       [ 11,   3,  45],\n",
       "       [ 12,   2, 303]], dtype=int64)"
      ]
     },
     "execution_count": 55,
     "metadata": {},
     "output_type": "execute_result"
    }
   ],
   "source": [
    "from sklearn.neighbors import KNeighborsClassifier \n",
    "knn = KNeighborsClassifier(n_neighbors = 7).fit(x_train_vect, y_train) \n",
    "knn_predictions = knn.predict(x_test_vect)  \n",
    "cm = confusion_matrix(y_test, knn_predictions) \n",
    "cm"
   ]
  },
  {
   "cell_type": "code",
   "execution_count": null,
   "metadata": {},
   "outputs": [],
   "source": []
  }
 ],
 "metadata": {
  "kernelspec": {
   "display_name": "Python 3",
   "language": "python",
   "name": "python3"
  },
  "language_info": {
   "codemirror_mode": {
    "name": "ipython",
    "version": 3
   },
   "file_extension": ".py",
   "mimetype": "text/x-python",
   "name": "python",
   "nbconvert_exporter": "python",
   "pygments_lexer": "ipython3",
   "version": "3.8.2"
  }
 },
 "nbformat": 4,
 "nbformat_minor": 4
}
